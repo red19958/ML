{
 "cells": [
  {
   "cell_type": "code",
   "execution_count": 1,
   "metadata": {
    "pycharm": {
     "name": "#%%\n"
    }
   },
   "outputs": [],
   "source": [
    "import re\n",
    "import numpy as np\n",
    "import pandas as pd\n",
    "from sklearn.svm import LinearSVC, SVC\n",
    "from sklearn.metrics import accuracy_score\n",
    "from sklearn.tree import DecisionTreeClassifier\n",
    "from sklearn.neighbors import KNeighborsClassifier\n",
    "from sklearn.ensemble import RandomForestClassifier\n",
    "from sklearn.linear_model import LogisticRegression\n",
    "from sklearn.model_selection import train_test_split\n",
    "from sklearn.feature_extraction.text import TfidfVectorizer\n",
    "from sklearn.feature_selection import chi2, SelectKBest, r_regression"
   ]
  },
  {
   "cell_type": "code",
   "execution_count": 2,
   "outputs": [],
   "source": [
    "def train_model_print_score(model_):\n",
    "    model_.fit(X_train, Y_train)\n",
    "    y_pred = model_.predict(X_test)\n",
    "    print('Классификация без выбора: ')\n",
    "    print(accuracy_score(Y_test, y_pred))\n",
    "\n",
    "    model_.fit(X_train_embedded, Y_train)\n",
    "    y_pred = model_.predict(X_test_embedded)\n",
    "    print('Классификация после выбора признаков с помощью встроенного метода: ')\n",
    "    print(accuracy_score(Y_test, y_pred))\n",
    "\n",
    "    model_.fit(X_train_wrapper, Y_train)\n",
    "    y_pred = model_.predict(X_test_wrapper)\n",
    "    print('Классификация после выбора признаков с помощью метода обертки: ')\n",
    "    print(accuracy_score(Y_test, y_pred))\n",
    "\n",
    "    model_.fit(X_train_filter, Y_train)\n",
    "    y_pred = model_.predict(X_test_filter)\n",
    "    print('Классификация после выбора признаков с помощью фильтрующего метода: ')\n",
    "    print(accuracy_score(Y_test, y_pred))\n",
    "\n",
    "    model_.fit(X_train_library_embedded, Y_train)\n",
    "    y_pred = model_.predict(X_test_library_embedded)\n",
    "    print('Классификация после выбора признаков с помощью библиотечного встроенного метода: ')\n",
    "    print(accuracy_score(Y_test, y_pred))\n",
    "\n",
    "    model_.fit(X_train_library_filter_pearson, Y_train)\n",
    "    y_pred = model_.predict(X_test_library_filter_pearson)\n",
    "    print('Классификация после выбора признаков с помощью библиотечного фильтрующего метода с корреляцией Пирсона: ')\n",
    "    print(accuracy_score(Y_test, y_pred))\n",
    "\n",
    "    model_.fit(X_train_library_filter_chi2, Y_train)\n",
    "    y_pred = model_.predict(X_test_library_filter_chi2)\n",
    "    print('Классификация после выбора признаков с помощью фильтрующего метода c хи-2: ')\n",
    "    print(accuracy_score(Y_test, y_pred))"
   ],
   "metadata": {
    "collapsed": false,
    "pycharm": {
     "name": "#%%\n"
    }
   }
  },
  {
   "cell_type": "code",
   "execution_count": 3,
   "outputs": [],
   "source": [
    "ds = pd.read_csv('SMS.tsv', sep='\\t')\n",
    "ds['class'] = pd.factorize(ds['class'])[0]\n",
    "Y = ds['class']\n",
    "list_remove = ['\\\"', ',', ';', ':', '-', '‘', ')', '(', '\\'', '$', '0', '1', '2', '3', '4', '5', '6', '7', '8', '9',\n",
    "               '—', '*', '/', '–', '.', '?', '!', '#', '&', '»', 'ü', 'ü', '%', '+', '<', '=', '>', '@', '[', '\\\\', ']',\n",
    "               '^', '_', '|', '~', '\\x91', '\\x92', '\\x93', '\\x94', '\\x96', '¡', '£', 'è', 'é', 'ì', 'ú', 'ü', 'é',\n",
    "               '’', '“', '…', '┾', '〨', '鈥']\n",
    "text = []\n",
    "for s in ds['text']:\n",
    "    for chr1 in list_remove:\n",
    "        s = s.replace(chr1, '')\n",
    "    s = re.sub('\\s+', ' ', s)\n",
    "    text.append(s.lower())\n",
    "\n",
    "vectorizer = TfidfVectorizer(max_features=2000)\n",
    "X = vectorizer.fit_transform(text)\n",
    "X = pd.DataFrame(X.toarray(), columns=vectorizer.get_feature_names_out())\n",
    "X_train, X_test, Y_train, Y_test = train_test_split(X, Y, test_size=0.2)"
   ],
   "metadata": {
    "collapsed": false,
    "pycharm": {
     "name": "#%%\n"
    }
   }
  },
  {
   "attachments": {},
   "cell_type": "markdown",
   "metadata": {
    "pycharm": {
     "name": "#%% md\n"
    }
   },
   "source": [
    "# Встроенный метод: RandomForest"
   ]
  },
  {
   "cell_type": "code",
   "execution_count": 4,
   "outputs": [
    {
     "data": {
      "text/plain": "call          0.045463\ntxt           0.043858\nmobile        0.029138\nfree          0.029061\nclaim         0.027062\nto            0.018210\nstop          0.017222\nwon           0.016746\nyour          0.016357\nprize         0.015588\ntext          0.014547\nreply         0.013878\nwin           0.012801\nbox           0.010831\nnow           0.010271\nfrom          0.010127\nservice       0.009877\nnokia         0.009323\ntone          0.008634\nnew           0.008418\nper           0.008150\ncustomer      0.008086\nringtone      0.007354\ncontact       0.007272\nor            0.007253\ncash          0.007056\nguaranteed    0.006747\nchat          0.006375\npobox         0.006238\npmin          0.006209\ndtype: float64"
     },
     "execution_count": 4,
     "metadata": {},
     "output_type": "execute_result"
    }
   ],
   "source": [
    "X_train_embedded = X_train.copy()\n",
    "model = RandomForestClassifier()\n",
    "model.fit(X_train_embedded, Y_train)\n",
    "embedded_coef = pd.Series(model.feature_importances_, X_train_embedded.columns).sort_values(ascending=False)[:30]\n",
    "embedded_coef"
   ],
   "metadata": {
    "collapsed": false,
    "pycharm": {
     "name": "#%%\n"
    }
   }
  },
  {
   "attachments": {},
   "cell_type": "markdown",
   "metadata": {
    "pycharm": {
     "name": "#%% md\n"
    }
   },
   "source": [
    "# Метод обертка: SVM RFE"
   ]
  },
  {
   "cell_type": "code",
   "execution_count": 5,
   "metadata": {
    "pycharm": {
     "name": "#%%\n"
    }
   },
   "outputs": [
    {
     "data": {
      "text/plain": "call           1.744378\nme             1.939543\ntext           2.184799\npobox          2.245218\nuk             2.306203\napply          2.315629\ntone           2.392238\nlatest         2.408026\nlandline       2.427568\ngames          2.476074\ntones          2.515200\ntxts           2.605735\nselection      2.692097\nvideo          2.704476\nawarded        2.744196\nwin            2.779752\nuser           2.810456\nreply          2.894941\nltd            2.996169\ncollection     3.012582\npmin           3.084816\nringtone       3.103743\nservice        3.206453\nunsubscribe    3.432500\nmobile         3.456206\nwon            3.473674\nadmirer        3.706639\npmsg           3.883373\nclaim          5.347827\ntxt            5.390706\ndtype: float64"
     },
     "execution_count": 5,
     "metadata": {},
     "output_type": "execute_result"
    }
   ],
   "source": [
    "X_train_wrapper = X_train.copy()\n",
    "\n",
    "while len(X_train_wrapper.columns) > 20:\n",
    "    model = LinearSVC()\n",
    "    model.fit(X_train_wrapper, Y_train)\n",
    "    wrapper_coef = pd.Series(abs(model.coef_[0]), X_train_wrapper.columns).sort_values()\n",
    "    for i in range(10):\n",
    "        X_train_wrapper = X_train_wrapper.drop(wrapper_coef.index[i], axis=1)\n",
    "\n",
    "wrapper_coef"
   ]
  },
  {
   "attachments": {},
   "cell_type": "markdown",
   "metadata": {
    "pycharm": {
     "name": "#%% md\n"
    }
   },
   "source": [
    "# Фильтрующий метод: Использование корреляции Спирмена"
   ]
  },
  {
   "cell_type": "code",
   "execution_count": 6,
   "metadata": {
    "pycharm": {
     "name": "#%%\n"
    }
   },
   "outputs": [
    {
     "data": {
      "text/plain": "class          1.000000\nwilling        0.165239\noutta          0.164713\nteach          0.164112\nderek          0.094457\nlr             0.094284\nsite           0.081455\nholder         0.080854\nairport        0.080854\nfive           0.080553\nquote          0.071738\nusing          0.071704\nshouldnt       0.071502\nhostel         0.071469\ncame           0.068410\narent          0.064682\nwednesday      0.064529\nearly          0.060077\nwhos           0.060076\nholla          0.059905\ncoffee         0.059252\nmidnight       0.059223\nwheres         0.055657\nespecially     0.054939\nless           0.054834\nyo             0.054088\nout            0.052946\nwater          0.051540\nshower         0.051465\ninformation    0.051240\nName: class, dtype: float64"
     },
     "execution_count": 6,
     "metadata": {},
     "output_type": "execute_result"
    }
   ],
   "source": [
    "X_train_filter = X_train.copy()\n",
    "corr = X_train_filter.corr(method='spearman')\n",
    "corr_class = corr['class']\n",
    "filter_coef = corr_class.sort_values(ascending=False)[:30]\n",
    "filter_coef"
   ]
  },
  {
   "attachments": {},
   "cell_type": "markdown",
   "metadata": {
    "pycharm": {
     "name": "#%% md\n"
    }
   },
   "source": [
    "# Первые 30 признаков, выбранные каждым методом"
   ]
  },
  {
   "cell_type": "code",
   "execution_count": 7,
   "metadata": {
    "pycharm": {
     "name": "#%%\n"
    }
   },
   "outputs": [
    {
     "name": "stdout",
     "output_type": "stream",
     "text": [
      "Встроенный метод:\n",
      "['call' 'txt' 'mobile' 'free' 'claim' 'to' 'stop' 'won' 'your' 'prize'\n",
      " 'text' 'reply' 'win' 'box' 'now' 'from' 'service' 'nokia' 'tone' 'new'\n",
      " 'per' 'customer' 'ringtone' 'contact' 'or' 'cash' 'guaranteed' 'chat'\n",
      " 'pobox' 'pmin']\n",
      "\n",
      "Метод обертка:\n",
      "['call' 'me' 'text' 'pobox' 'uk' 'apply' 'tone' 'latest' 'landline'\n",
      " 'games' 'tones' 'txts' 'selection' 'video' 'awarded' 'win' 'user' 'reply'\n",
      " 'ltd' 'collection' 'pmin' 'ringtone' 'service' 'unsubscribe' 'mobile'\n",
      " 'won' 'admirer' 'pmsg' 'claim' 'txt']\n",
      "\n",
      "Фильтрующий метод:\n",
      "['class' 'willing' 'outta' 'teach' 'derek' 'lr' 'site' 'holder' 'airport'\n",
      " 'five' 'quote' 'using' 'shouldnt' 'hostel' 'came' 'arent' 'wednesday'\n",
      " 'early' 'whos' 'holla' 'coffee' 'midnight' 'wheres' 'especially' 'less'\n",
      " 'yo' 'out' 'water' 'shower' 'information']\n"
     ]
    }
   ],
   "source": [
    "print('Встроенный метод:')\n",
    "print(np.array(embedded_coef.index))\n",
    "print()\n",
    "print('Метод обертка:')\n",
    "print(np.array(wrapper_coef.index))\n",
    "print()\n",
    "print('Фильтрующий метод:')\n",
    "print(np.array(filter_coef.index))"
   ]
  },
  {
   "attachments": {},
   "cell_type": "markdown",
   "metadata": {
    "pycharm": {
     "name": "#%% md\n"
    }
   },
   "source": [
    "# Библиотечный встроенный метод: LogisticRegression"
   ]
  },
  {
   "cell_type": "code",
   "execution_count": 8,
   "metadata": {
    "pycharm": {
     "name": "#%%\n"
    }
   },
   "outputs": [
    {
     "data": {
      "text/plain": "txt          14.933139\nclaim        10.787301\ncall          7.401519\nmobile        7.297542\nreply         7.262817\ntext          7.080068\nwon           6.743823\nchat          5.969300\nfree          5.841087\nwin           5.750655\nstop          5.694401\nringtone      5.632152\npmin          5.366378\nper           5.349392\nwho           5.166789\ntone          4.862679\nservice       4.855328\npobox         4.821555\nbox           4.680399\ntones         4.514819\nfrom          4.395059\nstatement     4.057034\nsexy          3.791743\ngames         3.699151\nyour          3.694103\ncash          3.564446\nvideo         3.393181\nto            3.385327\nreal          3.364647\npmsg          3.324321\ndtype: float64"
     },
     "execution_count": 8,
     "metadata": {},
     "output_type": "execute_result"
    }
   ],
   "source": [
    "X_train_embedded = X_train.copy()\n",
    "model = LogisticRegression(solver='liblinear', penalty='l1')\n",
    "model.fit(X_train_embedded, Y_train)\n",
    "library_embedded_coef = pd.Series(model.coef_[0], X_train_embedded.columns).sort_values(ascending=False)[:30]\n",
    "library_embedded_coef"
   ]
  },
  {
   "cell_type": "markdown",
   "source": [
    "# Библиотечный фильтрующий метод с корреляцией Пирсона"
   ],
   "metadata": {
    "collapsed": false,
    "pycharm": {
     "name": "#%% md\n"
    }
   }
  },
  {
   "cell_type": "code",
   "execution_count": 16,
   "outputs": [
    {
     "data": {
      "text/plain": "txt           0.369703\nclaim         0.353298\nmobile        0.329501\nfree          0.315083\nprize         0.298803\nwon           0.288424\ncall          0.280864\nurgent        0.253856\nstop          0.241448\nguaranteed    0.241089\nreply         0.240687\nwin           0.227122\ncash          0.225061\nservice       0.224511\nto            0.219672\ntone          0.217422\nppm           0.216535\ncontact       0.215747\nnokia         0.213089\nour           0.205806\ncustomer      0.200904\nawarded       0.200309\nbox           0.197855\ntext          0.197156\npobox         0.191157\nper           0.188213\nor            0.187139\ncode          0.184904\nshows         0.184141\nyour          0.183885\ndtype: float64"
     },
     "execution_count": 16,
     "metadata": {},
     "output_type": "execute_result"
    }
   ],
   "source": [
    "X_train_filter = X_train.copy()\n",
    "model = SelectKBest(r_regression, k=30)\n",
    "model.fit_transform(X_train_filter, Y_train)\n",
    "library_filter_pearson_coef = pd.Series(model.scores_, X_train_filter.columns).sort_values(ascending=False)[:30]\n",
    "library_filter_pearson_coef"
   ],
   "metadata": {
    "collapsed": false,
    "pycharm": {
     "name": "#%%\n"
    }
   }
  },
  {
   "cell_type": "markdown",
   "source": [
    "# Библиотечный фильтрующий метод с хи-квадрат"
   ],
   "metadata": {
    "collapsed": false,
    "pycharm": {
     "name": "#%% md\n"
    }
   }
  },
  {
   "cell_type": "code",
   "execution_count": 18,
   "outputs": [
    {
     "data": {
      "text/plain": "claim         133.522227\ntxt           131.717648\nfree          117.330469\nmobile        115.769525\nprize         111.317636\nwon            94.434837\ncall           81.911938\nstop           74.543710\nurgent         74.110588\nnokia          67.458115\nguaranteed     66.388782\ntone           63.317491\nservice        62.562737\nreply          61.796344\nwin            59.233504\ncash           58.211015\nppm            53.384260\ncustomer       51.273961\ncontact        48.688884\nringtone       48.140252\nawarded        47.890272\ntext           45.329725\nbox            44.010673\nour            42.633105\ncode           42.203637\nshows          40.719915\nper            40.334973\npmin           40.313433\npobox          40.215500\ndraw           37.999474\ndtype: float64"
     },
     "execution_count": 18,
     "metadata": {},
     "output_type": "execute_result"
    }
   ],
   "source": [
    "X_train_filter = X_train.copy()\n",
    "model = SelectKBest(chi2, k=30)\n",
    "model.fit_transform(X_train_filter, Y_train)\n",
    "library_filter_chi2_coef = pd.Series(model.scores_, X_train_filter.columns).sort_values(ascending=False)[:30]\n",
    "library_filter_chi2_coef"
   ],
   "metadata": {
    "collapsed": false,
    "pycharm": {
     "name": "#%%\n"
    }
   }
  },
  {
   "attachments": {},
   "cell_type": "markdown",
   "metadata": {
    "pycharm": {
     "name": "#%% md\n"
    }
   },
   "source": [
    "# Сравнение моих и библиотечных:"
   ]
  },
  {
   "cell_type": "code",
   "execution_count": 11,
   "metadata": {
    "pycharm": {
     "name": "#%%\n"
    }
   },
   "outputs": [
    {
     "name": "stdout",
     "output_type": "stream",
     "text": [
      "Мои реализации: \n",
      "  1. Встроенный метод\n",
      "['box', 'call', 'cash', 'chat', 'claim', 'contact', 'customer', 'free', 'from', 'guaranteed', 'mobile', 'new', 'nokia', 'now', 'or', 'per', 'pmin', 'pobox', 'prize', 'reply', 'ringtone', 'service', 'stop', 'text', 'to', 'tone', 'txt', 'win', 'won', 'your']\n",
      "  2. Метод обертка\n",
      "['admirer', 'apply', 'awarded', 'call', 'claim', 'collection', 'games', 'landline', 'latest', 'ltd', 'me', 'mobile', 'pmin', 'pmsg', 'pobox', 'reply', 'ringtone', 'selection', 'service', 'text', 'tone', 'tones', 'txt', 'txts', 'uk', 'unsubscribe', 'user', 'video', 'win', 'won']\n",
      "  3. Фильтрующий метод\n",
      "['airport', 'arent', 'came', 'class', 'coffee', 'derek', 'early', 'especially', 'five', 'holder', 'holla', 'hostel', 'information', 'less', 'lr', 'midnight', 'out', 'outta', 'quote', 'shouldnt', 'shower', 'site', 'teach', 'using', 'water', 'wednesday', 'wheres', 'whos', 'willing', 'yo']\n",
      "\n",
      "Библиотечные: \n",
      "  1. Встроенный метод\n",
      "['box', 'call', 'cash', 'chat', 'claim', 'free', 'from', 'games', 'mobile', 'per', 'pmin', 'pmsg', 'pobox', 'real', 'reply', 'ringtone', 'service', 'sexy', 'statement', 'stop', 'text', 'to', 'tone', 'tones', 'txt', 'video', 'who', 'win', 'won', 'your']\n",
      "  2. Фильтрующий метод Пирсон\n",
      "['awarded', 'box', 'call', 'cash', 'claim', 'code', 'contact', 'customer', 'free', 'guaranteed', 'mobile', 'nokia', 'or', 'our', 'per', 'pobox', 'ppm', 'prize', 'reply', 'service', 'shows', 'stop', 'text', 'to', 'tone', 'txt', 'urgent', 'win', 'won', 'your']\n",
      "  3. Фильтрующий метод хи-2\n",
      "['awarded', 'box', 'call', 'cash', 'claim', 'code', 'contact', 'customer', 'draw', 'free', 'guaranteed', 'mobile', 'nokia', 'our', 'per', 'pmin', 'pobox', 'ppm', 'prize', 'reply', 'ringtone', 'service', 'shows', 'stop', 'text', 'tone', 'txt', 'urgent', 'win', 'won']\n"
     ]
    }
   ],
   "source": [
    "print('Мои реализации: ')\n",
    "print('  1. Встроенный метод')\n",
    "print(sorted(np.array(embedded_coef.index)))\n",
    "print('  2. Метод обертка')\n",
    "print(sorted(np.array(wrapper_coef.index)))\n",
    "print('  3. Фильтрующий метод')\n",
    "print(sorted(np.array(filter_coef.index)))\n",
    "print()\n",
    "print('Библиотечные: ')\n",
    "print('  1. Встроенный метод')\n",
    "print(sorted(np.array(library_embedded_coef.index)))\n",
    "print('  2. Фильтрующий метод Пирсон')\n",
    "print(sorted(np.array(library_filter_pearson_coef.index)))\n",
    "print('  3. Фильтрующий метод хи-2')\n",
    "print(sorted(np.array(library_filter_chi2_coef.index)))"
   ]
  },
  {
   "attachments": {},
   "cell_type": "markdown",
   "metadata": {
    "pycharm": {
     "name": "#%% md\n"
    }
   },
   "source": [
    "# Выбранные классификаторы: kNN, SVM, DecisionTree"
   ]
  },
  {
   "cell_type": "code",
   "execution_count": 12,
   "metadata": {
    "pycharm": {
     "name": "#%%\n"
    }
   },
   "outputs": [],
   "source": [
    "X_train_embedded = pd.DataFrame(X_train, columns=np.array(embedded_coef.index))\n",
    "X_test_embedded = pd.DataFrame(X_test, columns=np.array(embedded_coef.index))\n",
    "\n",
    "X_train_wrapper = pd.DataFrame(X_train, columns=np.array(wrapper_coef.index))\n",
    "X_test_wrapper = pd.DataFrame(X_test, columns=np.array(wrapper_coef.index))\n",
    "\n",
    "X_train_filter = pd.DataFrame(X_train, columns=np.array(filter_coef.index))\n",
    "X_test_filter = pd.DataFrame(X_test, columns=np.array(filter_coef.index))\n",
    "\n",
    "X_train_library_embedded = pd.DataFrame(X_train, columns=np.array(library_embedded_coef.index))\n",
    "X_test_library_embedded = pd.DataFrame(X_test, columns=np.array(library_embedded_coef.index))\n",
    "\n",
    "X_train_library_filter_pearson = pd.DataFrame(X_train, columns=np.array(library_filter_pearson_coef.index))\n",
    "X_test_library_filter_pearson = pd.DataFrame(X_test, columns=np.array(library_filter_pearson_coef.index))\n",
    "\n",
    "X_train_library_filter_chi2 = pd.DataFrame(X_train, columns=np.array(library_filter_chi2_coef.index))\n",
    "X_test_library_filter_chi2 = pd.DataFrame(X_test, columns=np.array(library_filter_chi2_coef.index))"
   ]
  },
  {
   "cell_type": "code",
   "execution_count": 13,
   "metadata": {
    "pycharm": {
     "name": "#%%\n"
    }
   },
   "outputs": [
    {
     "name": "stdout",
     "output_type": "stream",
     "text": [
      "KNN: \n",
      "Классификация без выбора: \n",
      "0.9461883408071748\n",
      "Классификация после выбора признаков с помощью встроенного метода: \n",
      "0.9587443946188341\n",
      "Классификация после выбора признаков с помощью метода обертки: \n",
      "0.9650224215246637\n",
      "Классификация после выбора признаков с помощью фильтрующего метода: \n",
      "0.8914798206278027\n",
      "Классификация после выбора признаков с помощью библиотечного встроенного метода: \n",
      "0.957847533632287\n",
      "Классификация после выбора признаков с помощью библиотечного фильтрующего метода с корреляцией Пирсона: \n",
      "0.9605381165919282\n",
      "Классификация после выбора признаков с помощью фильтрующего метода c хи-2: \n",
      "0.9623318385650225\n"
     ]
    }
   ],
   "source": [
    "print('KNN: ')\n",
    "train_model_print_score(KNeighborsClassifier())"
   ]
  },
  {
   "cell_type": "code",
   "execution_count": 14,
   "outputs": [
    {
     "name": "stdout",
     "output_type": "stream",
     "text": [
      "SVM: \n",
      "Классификация без выбора: \n",
      "0.9865470852017937\n",
      "Классификация после выбора признаков с помощью встроенного метода: \n",
      "0.9641255605381166\n",
      "Классификация после выбора признаков с помощью метода обертки: \n",
      "0.9614349775784753\n",
      "Классификация после выбора признаков с помощью фильтрующего метода: \n",
      "0.8914798206278027\n",
      "Классификация после выбора признаков с помощью библиотечного встроенного метода: \n",
      "0.9632286995515695\n",
      "Классификация после выбора признаков с помощью библиотечного фильтрующего метода с корреляцией Пирсона: \n",
      "0.9695067264573991\n",
      "Классификация после выбора признаков с помощью фильтрующего метода c хи-2: \n",
      "0.9641255605381166\n"
     ]
    }
   ],
   "source": [
    "print('SVM: ')\n",
    "train_model_print_score(SVC())"
   ],
   "metadata": {
    "collapsed": false,
    "pycharm": {
     "name": "#%%\n"
    }
   }
  },
  {
   "cell_type": "code",
   "execution_count": 15,
   "outputs": [
    {
     "name": "stdout",
     "output_type": "stream",
     "text": [
      "Decision Tree: \n",
      "Классификация без выбора: \n",
      "0.9632286995515695\n",
      "Классификация после выбора признаков с помощью встроенного метода: \n",
      "0.9524663677130045\n",
      "Классификация после выбора признаков с помощью метода обертки: \n",
      "0.9596412556053812\n",
      "Классификация после выбора признаков с помощью фильтрующего метода: \n",
      "0.8896860986547085\n",
      "Классификация после выбора признаков с помощью библиотечного встроенного метода: \n",
      "0.9560538116591928\n",
      "Классификация после выбора признаков с помощью библиотечного фильтрующего метода с корреляцией Пирсона: \n",
      "0.9488789237668162\n",
      "Классификация после выбора признаков с помощью фильтрующего метода c хи-2: \n",
      "0.9506726457399103\n"
     ]
    }
   ],
   "source": [
    "print('Decision Tree: ')\n",
    "train_model_print_score(DecisionTreeClassifier())"
   ],
   "metadata": {
    "collapsed": false,
    "pycharm": {
     "name": "#%%\n"
    }
   }
  }
 ],
 "metadata": {
  "kernelspec": {
   "display_name": "Python 3",
   "language": "python",
   "name": "python3"
  },
  "language_info": {
   "codemirror_mode": {
    "name": "ipython",
    "version": 3
   },
   "file_extension": ".py",
   "mimetype": "text/x-python",
   "name": "python",
   "nbconvert_exporter": "python",
   "pygments_lexer": "ipython3",
   "version": "3.9.9"
  },
  "orig_nbformat": 4
 },
 "nbformat": 4,
 "nbformat_minor": 2
}