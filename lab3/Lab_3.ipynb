{
 "cells": [
  {
   "cell_type": "code",
   "execution_count": 1,
   "metadata": {},
   "outputs": [],
   "source": [
    "import re\n",
    "import nltk\n",
    "import numpy as np\n",
    "from tensorflow import keras\n",
    "from nltk.tokenize import sent_tokenize, word_tokenize"
   ]
  },
  {
   "cell_type": "code",
   "execution_count": 2,
   "outputs": [],
   "source": [
    "def encode_sentence(sentence):\n",
    "    curr_s = []\n",
    "    word_tok = word_tokenize(sentence)\n",
    "    for i in range(len(word_tok)):\n",
    "        word = word_tok[i]\n",
    "        for ch in word:\n",
    "            curr_ch = [0] * len(alphabet)\n",
    "            curr_ch[dct[ch]] = 1\n",
    "            curr_s.append(curr_ch)\n",
    "        if i != (len(word_tok) - 1) and i != (len(word_tok) - 2):  # before and after '.' not space\n",
    "            curr_ch = [0] * len(alphabet)\n",
    "            curr_ch[dct[' ']] = 1\n",
    "            curr_s.append(curr_ch)\n",
    "    return curr_s\n",
    "\n",
    "def generate_text(beginning, length=100):\n",
    "    generated = \"\"\n",
    "    e_beginning = encode_sentence(beginning)\n",
    "    while True:\n",
    "        pred = model.predict(np.array([e_beginning]))\n",
    "        next_index = np.argmax(pred)\n",
    "        next_char = alphabet[next_index]\n",
    "        generated += next_char\n",
    "        if next_char == '.' or len(generated) > length:\n",
    "            break\n",
    "        curr_ch = [0] * len(alphabet)\n",
    "        curr_ch[dct[next_char]] = 1\n",
    "        e_beginning.append(curr_ch)\n",
    "        e_beginning = e_beginning[1:]\n",
    "    return generated\n",
    "\n",
    "def get_default():\n",
    "    default = {}\n",
    "    for ch in alphabet:\n",
    "        default[ch] = 0\n",
    "    return default\n",
    "\n",
    "def create_markov_chain(txt, n=15):\n",
    "    chain = {}\n",
    "    for sentence in txt:\n",
    "        for i in range(0, len(sentence) - n):\n",
    "            state = sentence[i:i + n]\n",
    "            next_ch = sentence[i + n]\n",
    "            if not (state in chain):\n",
    "                chain[state] = get_default()\n",
    "            chain[state][next_ch] += 1\n",
    "    for state in chain:\n",
    "        total = float(sum(chain[state].values()))\n",
    "        for next_char in chain[state]:\n",
    "            chain[state][next_char] /= total\n",
    "    return chain\n",
    "\n",
    "def markov_generate_text(beginning, n=15, length=100):\n",
    "    current_state = beginning[-n:]\n",
    "    generated = \"\"\n",
    "    while True:\n",
    "        if not (current_state in markov_chain):\n",
    "            next_char = np.random.choice(alphabet)\n",
    "        else:\n",
    "            next_char = max(markov_chain[current_state], key=markov_chain[current_state].get)\n",
    "        generated += next_char\n",
    "        beginning += next_char\n",
    "        if next_char == '.' or len(beginning) > length:\n",
    "            break\n",
    "        current_state = beginning[-n:]\n",
    "    return generated"
   ],
   "metadata": {
    "collapsed": false
   }
  },
  {
   "cell_type": "code",
   "execution_count": 3,
   "metadata": {},
   "outputs": [
    {
     "name": "stderr",
     "output_type": "stream",
     "text": [
      "[nltk_data] Downloading package punkt to\n",
      "[nltk_data]     C:\\Users\\asus\\AppData\\Roaming\\nltk_data...\n",
      "[nltk_data]   Package punkt is already up-to-date!\n"
     ]
    },
    {
     "data": {
      "text/plain": "True"
     },
     "execution_count": 3,
     "metadata": {},
     "output_type": "execute_result"
    }
   ],
   "source": [
    "file = open(\"text.txt\", \"r\")\n",
    "lines = file.readlines()\n",
    "list_remove = ['\\\"', ',', ';', ':', '-', ')', '(', '\\'', '$', '0', '1', '2', '3', '4', '5', '6', '7', '8', '9', '—',\n",
    "               '*', '/', 'à', 'á', 'é', 'í', 'ï', '–', 'è', '°','å', 'ë', '’', '“', '”', '′', 'å' , '&']\n",
    "\n",
    "list_end = ['!', '…', '?']\n",
    "text = ''\n",
    "for item in lines:\n",
    "    item = item\n",
    "    for chr1 in list_remove:\n",
    "        item = item.replace(chr1, ' ')\n",
    "    for chr2 in list_end:\n",
    "        item = item.replace(chr2, '.')\n",
    "    item = re.sub('\\s+', ' ', item)\n",
    "    text += item.lower()\n",
    "nltk.download('punkt')"
   ]
  },
  {
   "cell_type": "code",
   "execution_count": 4,
   "metadata": {},
   "outputs": [],
   "source": [
    "data = sent_tokenize(text)"
   ]
  },
  {
   "cell_type": "code",
   "execution_count": 5,
   "metadata": {},
   "outputs": [
    {
     "data": {
      "text/plain": "['the most merciful thing in the world i think is the inability of the human mind to correlate all its contents.',\n 'we live on a placid island of ignorance in the midst of black seas of infinity and it was not meant that we should voyage far.',\n 'the sciences each straining in its own direction have hitherto harmed us little but some day the piecing together of dissociated knowledge will open up such terrifying vistas of reality and of our frightful position therein that we shall either go mad from the revelation or flee from the deadly light into the peace and safety of a new dark age.',\n 'theosophists have guessed at the awesome grandeur of the cosmic cycle wherein our world and human race form transient incidents.',\n 'they have hinted at strange survivals in terms which would freeze the blood if not masked by a bland optimism.',\n 'but it is not from them that there came the single glimpse of forbidden aeons which chills me when i think of it and maddens me when i dream of it.',\n 'that glimpse like all dread glimpses of truth flashed out from an accidental piecing together of separated things in this case an old newspaper item and the notes of a dead professor.',\n 'i hope that no one else will accomplish this piecing out certainly if i live i shall never knowingly supply a link in so hideous a chain.',\n 'i think that the professor too intended to keep silent regarding the part he knew and that he would have destroyed his notes had not sudden death seized him.',\n 'my knowledge of the thing began in the winter of with the death of my grand uncle george gammell angell professor emeritus of semitic languages in brown university providence rhode island.',\n 'professor angell was widely known as an authority on ancient inscriptions and had frequently been resorted to by the heads of prominent museums so that his passing at the age of ninety two may be recalled by many.',\n 'locally interest was intensified by the obscurity of the cause of death.',\n 'the professor had been stricken whilst returning from the newport boat falling suddenly as witnesses said after having been jostled by a nautical looking negro who had come from one of the queer dark courts on the precipitous hillside which formed a short cut from the waterfront to the deceased s home in williams street.',\n 'physicians were unable to find any visible disorder but concluded after perplexed debate that some obscure lesion of the heart induced by the brisk ascent of so steep a hill by so elderly a man was responsible for the end.',\n 'at the time i saw no reason to dissent from this dictum but latterly i am inclined to wonder and more than wonder.',\n 'as my grand uncle s heir and executor for he died a childless widower i was expected to go over his papers with some thoroughness and for that purpose moved his entire set of files and boxes to my quarters in boston.',\n 'much of the material which i correlated will be later published by the american archaeological society but there was one box which i found exceedingly puzzling and which i felt much averse from shewing to other eyes.',\n 'it had been locked and i did not find the key till it occurred to me to examine the personal ring which the professor carried always in his pocket.',\n 'then indeed i succeeded in opening it but when i did so seemed only to be confronted by a greater and more closely locked barrier.',\n 'for what could be the meaning of the queer clay bas relief and the disjointed jottings ramblings and cuttings which i found.',\n 'had my uncle in his latter years become credulous of the most superficial impostures.',\n 'i resolved to search out the eccentric sculptor responsible for this apparent disturbance of an old man s peace of mind.',\n 'the bas relief was a rough rectangle less than an inch thick and about five by six inches in area obviously of modern origin.',\n 'its designs however were far from modern in atmosphere and suggestion for although the vagaries of cubism and futurism are many and wild they do not often reproduce that cryptic regularity which lurks in prehistoric writing.',\n 'and writing of some kind the bulk of these designs seemed certainly to be though my memory despite much familiarity with the papers and collections of my uncle failed in any way to identify this particular species or even to hint at its remotest affiliations.',\n 'above these apparent hieroglyphics was a figure of evidently pictorial intent though its impressionistic execution forbade a very clear idea of its nature.',\n 'it seemed to be a sort of monster or symbol representing a monster of a form which only a diseased fancy could conceive.',\n 'if i say that my somewhat extravagant imagination yielded simultaneous pictures of an octopus a dragon and a human caricature i shall not be unfaithful to the spirit of the thing.',\n 'a pulpy tentacled head surmounted a grotesque and scaly body with rudimentary wings but it was the general outline of the whole which made it most shockingly frightful.',\n 'behind the figure was a vague suggestion of a cyclopean architectural background.',\n 'the writing accompanying this oddity was aside from a stack of press cuttings in professor angell s most recent hand and made no pretence to literary style.',\n 'what seemed to be the main document was headed cthulhu cult in characters painstakingly printed to avoid the erroneous reading of a word so unheard of.',\n 'the manuscript was divided into two sections the first of which was headed dream and dream work of h. a. wilcox thomas st. providence r.i. and the second narrative of inspector john r. legrasse bienville st. new orleans la.',\n 'at a. a. s. mtg.',\n 'notes on same prof. webb s acct.',\n 'the other manuscript papers were all brief notes some of them accounts of the queer dreams of different persons some of them citations from theosophical books and magazines notably w. scott elliot s atlantis and the lost lemuria and the rest comments on long surviving secret societies and hidden cults with references to passages in such mythological and anthropological source books as frazer s golden bough and miss murray s witch cult in western europe.',\n 'the cuttings largely alluded to outr mental illnesses and outbreaks of group folly or mania in the spring of .',\n 'the first half of the principal manuscript told a very peculiar tale.',\n 'it appears that on march st a thin dark young man of neurotic and excited aspect had called upon professor angell bearing the singular clay bas relief which was then exceedingly damp and fresh.',\n 'his card bore the name of henry anthony wilcox and my uncle had recognised him as the youngest son of an excellent family slightly known to him who had latterly been studying sculpture at the rhode island school of design and living alone at the fleur de lys building near that institution.',\n 'wilcox was a precocious youth of known genius but great eccentricity and had from childhood excited attention through the strange stories and odd dreams he was in the habit of relating.',\n 'he called himself psychically hypersensitive but the staid folk of the ancient commercial city dismissed him as merely queer .',\n 'never mingling much with his kind he had dropped gradually from social visibility and was now known only to a small group of aesthetes from other towns.',\n 'even the providence art club anxious to preserve its conservatism had found him quite hopeless.',\n 'on the occasion of the visit ran the professor s manuscript the sculptor abruptly asked for the benefit of his host s archaeological knowledge in identifying the hieroglyphics on the bas relief.',\n 'he spoke in a dreamy stilted manner which suggested pose and alienated sympathy and my uncle shewed some sharpness in replying for the conspicuous freshness of the tablet implied kinship with anything but archaeology.',\n 'young wilcox s rejoinder which impressed my uncle enough to make him recall and record it verbatim was of a fantastically poetic cast which must have typified his whole conversation and which i have since found highly characteristic of him.',\n 'he said it is new indeed for i made it last night in a dream of strange cities and dreams are older than brooding tyre or the contemplative sphinx or garden girdled babylon.',\n 'it was then that he began that rambling tale which suddenly played upon a sleeping memory and won the fevered interest of my uncle.',\n 'there had been a slight earthquake tremor the night before the most considerable felt in new england for some years and wilcox s imagination had been keenly affected.',\n 'upon retiring he had had an unprecedented dream of great cyclopean cities of titan blocks and sky flung monoliths all dripping with green ooze and sinister with latent horror.',\n 'hieroglyphics had covered the walls and pillars and from some undetermined point below had come a voice that was not a voice a chaotic sensation which only fancy could transmute into sound but which he attempted to render by the almost unpronounceable jumble of letters cthulhu fhtagn .',\n 'this verbal jumble was the key to the recollection which excited and disturbed professor angell.',\n 'he questioned the sculptor with scientific minuteness and studied with almost frantic intensity the bas relief on which the youth had found himself working chilled and clad only in his night clothes when waking had stolen bewilderingly over him.',\n 'my uncle blamed his old age wilcox afterward said for his slowness in recognising both hieroglyphics and pictorial design.',\n 'many of his questions seemed highly out of place to his visitor especially those which tried to connect the latter with strange cults or societies and wilcox could not understand the repeated promises of silence which he was offered in exchange for an admission of membership in some widespread mystical or paganly religious body.',\n 'when professor angell became convinced that the sculptor was indeed ignorant of any cult or system of cryptic lore he besieged his visitor with demands for future reports of dreams.',\n 'this bore regular fruit for after the first interview the manuscript records daily calls of the young man during which he related startling fragments of nocturnal imagery whose burden was always some terrible cyclopean vista of dark and dripping stone with a subterrene voice or intelligence shouting monotonously in enigmatical sense impacts uninscribable save as gibberish.',\n 'the two sounds most frequently repeated are those rendered by the letters cthulhu and r lyeh .',\n 'on march d the manuscript continued wilcox failed to appear and inquiries at his quarters revealed that he had been stricken with an obscure sort of fever and taken to the home of his family in waterman street.',\n 'he had cried out in the night arousing several other artists in the building and had manifested since then only alternations of unconsciousness and delirium.',\n 'my uncle at once telephoned the family and from that time forward kept close watch of the case calling often at the thayer street office of dr. tobey whom he learned to be in charge.',\n 'the youth s febrile mind apparently was dwelling on strange things and the doctor shuddered now and then as he spoke of them.',\n 'they included not only a repetition of what he had formerly dreamed but touched wildly on a gigantic thing miles high which walked or lumbered about.',\n 'he at no time fully described this object but occasional frantic words as repeated by dr. tobey convinced the professor that it must be identical with the nameless monstrosity he had sought to depict in his dream sculpture.',\n 'reference to this object the doctor added was invariably a prelude to the young man s subsidence into lethargy.',\n 'his temperature oddly enough was not greatly above normal but his whole condition was otherwise such as to suggest true fever rather than mental disorder.',\n 'on april nd at about p.m. every trace of wilcox s malady suddenly ceased.',\n 'he sat upright in bed astonished to find himself at home and completely ignorant of what had happened in dream or reality since the night of march nd.',\n 'pronounced well by his physician he returned to his quarters in three days but to professor angell he was of no further assistance.',\n 'all traces of strange dreaming had vanished with his recovery and my uncle kept no record of his night thoughts after a week of pointless and irrelevant accounts of thoroughly usual visions.',\n 'here the first part of the manuscript ended but references to certain of the scattered notes gave me much material for thought so much in fact that only the ingrained scepticism then forming my philosophy can account for my continued distrust of the artist.',\n 'the notes in question were those descriptive of the dreams of various persons covering the same period as that in which young wilcox had had his strange visitations.',\n 'my uncle it seems had quickly instituted a prodigiously far flung body of inquiries amongst nearly all the friends whom he could question without impertinence asking for nightly reports of their dreams and the dates of any notable visions for some time past.',\n 'the reception of his request seems to have been varied but he must at the very least have received more responses than any ordinary man could have handled without a secretary.',\n 'this original correspondence was not preserved but his notes formed a thorough and really significant digest.',\n 'average people in society and business new england s traditional salt of the earth gave an almost completely negative result though scattered cases of uneasy but formless nocturnal impressions appear here and there always between march d and april nd the period of young wilcox s delirium.',\n 'scientific men were little more affected though four cases of vague description suggest fugitive glimpses of strange landscapes and in one case there is mentioned a dread of something abnormal.',\n 'it was from the artists and poets that the pertinent answers came and i know that panic would have broken loose had they been able to compare notes.',\n 'as it was lacking their original letters i half suspected the compiler of having asked leading questions or of having edited the correspondence in corroboration of what he had latently resolved to see.',\n 'that is why i continued to feel that wilcox somehow cognisant of the old data which my uncle had possessed had been imposing on the veteran scientist.',\n 'these responses from aesthetes told a disturbing tale.',\n 'from february th to april nd a large proportion of them had dreamed very bizarre things the intensity of the dreams being immeasurably the stronger during the period of the sculptor s delirium.',\n 'over a fourth of those who reported anything reported scenes and half sounds not unlike those which wilcox had described and some of the dreamers confessed acute fear of the gigantic nameless thing visible toward the last.',\n 'one case which the note describes with emphasis was very sad.',\n 'the subject a widely known architect with leanings toward theosophy and occultism went violently insane on the date of young wilcox s seizure and expired several months later after incessant screamings to be saved from some escaped denizen of hell.',\n 'had my uncle referred to these cases by name instead of merely by number i should have attempted some corroboration and personal investigation but as it was i succeeded in tracing down only a few.',\n 'all of these however bore out the notes in full.',\n 'i have often wondered if all the objects of the professor s questioning felt as puzzled as did this fraction.',\n 'it is well that no explanation shall ever reach them.',\n 'the press cuttings as i have intimated touched on cases of panic mania and eccentricity during the given period.',\n 'professor angell must have employed a cutting bureau for the number of extracts was tremendous and the sources scattered throughout the globe.',\n 'here was a nocturnal suicide in london where a lone sleeper had leaped from a window after a shocking cry.',\n 'here likewise a rambling letter to the editor of a paper in south america where a fanatic deduces a dire future from visions he has seen.',\n 'a despatch from california describes a theosophist colony as donning white robes en masse for some glorious fulfilment which never arrives whilst items from india speak guardedly of serious native unrest toward the end of march.',\n 'voodoo orgies multiply in hayti and african outposts report ominous mutterings.',\n 'american officers in the philippines find certain tribes bothersome about this time and new york policemen are mobbed by hysterical levantines on the night of march .',\n 'the west of ireland too is full of wild rumour and legendry and a fantastic painter named ardois bonnot hangs a blasphemous dream landscape in the paris spring salon of .',\n 'and so numerous are the recorded troubles in insane asylums that only a miracle can have stopped the medical fraternity from noting strange parallelisms and drawing mystified conclusions.',\n 'a weird bunch of cuttings all told and i can at this date scarcely envisage the callous rationalism with which i set them aside.',\n 'but i was then convinced that young wilcox had known of the older matters mentioned by the professor.',\n 'ii.',\n 'the tale of inspector legrasse.',\n 'the older matters which had made the sculptor s dream and bas relief so significant to my uncle formed the subject of the second half of his long manuscript.',\n 'once before it appears professor angell had seen the hellish outlines of the nameless monstrosity puzzled over the unknown hieroglyphics and heard the ominous syllables which can be rendered only as cthulhu and all this in so stirring and horrible a connexion that it is small wonder he pursued young wilcox with queries and demands for data.',\n 'the earlier experience had come in seventeen years before when the american archaeological society held its annual meeting in st. louis.',\n 'professor angell as befitted one of his authority and attainments had had a prominent part in all the deliberations and was one of the first to be approached by the several outsiders who took advantage of the convocation to offer questions for correct answering and problems for expert solution.',\n 'the chief of these outsiders and in a short time the focus of interest for the entire meeting was a commonplace looking middle aged man who had travelled all the way from new orleans for certain special information unobtainable from any local source.',\n 'his name was john raymond legrasse and he was by profession an inspector of police.',\n 'with him he bore the subject of his visit a grotesque repulsive and apparently very ancient stone statuette whose origin he was at a loss to determine.',\n 'it must not be fancied that inspector legrasse had the least interest in archaeology.',\n 'on the contrary his wish for enlightenment was prompted by purely professional considerations.',\n 'the statuette idol fetish or whatever it was had been captured some months before in the wooded swamps south of new orleans during a raid on a supposed voodoo meeting and so singular and hideous were the rites connected with it that the police could not but realise that they had stumbled on a dark cult totally unknown to them and infinitely more diabolic than even the blackest of the african voodoo circles.',\n 'of its origin apart from the erratic and unbelievable tales extorted from the captured members absolutely nothing was to be discovered hence the anxiety of the police for any antiquarian lore which might help them to place the frightful symbol and through it track down the cult to its fountain head.',\n 'inspector legrasse was scarcely prepared for the sensation which his offering created.',\n 'one sight of the thing had been enough to throw the assembled men of science into a state of tense excitement and they lost no time in crowding around him to gaze at the diminutive figure whose utter strangeness and air of genuinely abysmal antiquity hinted so potently at unopened and archaic vistas.',\n 'no recognised school of sculpture had animated this terrible object yet centuries and even thousands of years seemed recorded in its dim and greenish surface of unplaceable stone.',\n 'the figure which was finally passed slowly from man to man for close and careful study was between seven and eight inches in height and of exquisitely artistic workmanship.',\n 'it represented a monster of vaguely anthropoid outline but with an octopus like head whose face was a mass of feelers a scaly rubbery looking body prodigious claws on hind and fore feet and long narrow wings behind.',\n 'this thing which seemed instinct with a fearsome and unnatural malignancy was of a somewhat bloated corpulence and squatted evilly on a rectangular block or pedestal covered with undecipherable characters.',\n 'the tips of the wings touched the back edge of the block the seat occupied the centre whilst the long curved claws of the doubled up crouching hind legs gripped the front edge and extended a quarter of the way down toward the bottom of the pedestal.',\n 'the cephalopod head was bent forward so that the ends of the facial feelers brushed the backs of huge fore paws which clasped the croucher s elevated knees.',\n 'the aspect of the whole was abnormally life like and the more subtly fearful because its source was so totally unknown.',\n 'its vast awesome and incalculable age was unmistakable yet not one link did it shew with any known type of art belonging to civilisation s youth or indeed to any other time.',\n 'totally separate and apart its very material was a mystery for the soapy greenish black stone with its golden or iridescent flecks and striations resembled nothing familiar to geology or mineralogy.',\n 'the characters along the base were equally baffling and no member present despite a representation of half the world s expert learning in this field could form the least notion of even their remotest linguistic kinship.',\n 'they like the subject and material belonged to something horribly remote and distinct from mankind as we know it something frightfully suggestive of old and unhallowed cycles of life in which our world and our conceptions have no part.',\n 'and yet as the members severally shook their heads and confessed defeat at the inspector s problem there was one man in that gathering who suspected a touch of bizarre familiarity in the monstrous shape and writing and who presently told with some diffidence of the odd trifle he knew.',\n 'this person was the late william channing webb professor of anthropology in princeton university and an explorer of no slight note.',\n 'professor webb had been engaged forty eight years before in a tour of greenland and iceland in search of some runic inscriptions which he failed to unearth and whilst high up on the west greenland coast had encountered a singular tribe or cult of degenerate esquimaux whose religion a curious form of devil worship chilled him with its deliberate bloodthirstiness and repulsiveness.',\n 'it was a faith of which other esquimaux knew little and which they mentioned only with shudders saying that it had come down from horribly ancient aeons before ever the world was made.',\n 'besides nameless rites and human sacrifices there were certain queer hereditary rituals addressed to a supreme elder devil or tornasuk and of this professor webb had taken a careful phonetic copy from an aged angekok or wizard priest expressing the sounds in roman letters as best he knew how.',\n 'but just now of prime significance was the fetish which this cult had cherished and around which they danced when the aurora leaped high over the ice cliffs.',\n 'it was the professor stated a very crude bas relief of stone comprising a hideous picture and some cryptic writing.',\n 'and so far as he could tell it was a rough parallel in all essential features of the bestial thing now lying before the meeting.',\n 'this data received with suspense and astonishment by the assembled members proved doubly exciting to inspector legrasse and he began at once to ply his informant with questions.',\n 'having noted and copied an oral ritual among the swamp cult worshippers his men had arrested he besought the professor to remember as best he might the syllables taken down amongst the diabolist esquimaux.',\n 'there then followed an exhaustive comparison of details and a moment of really awed silence when both detective and scientist agreed on the virtual identity of the phrase common to two hellish rituals so many worlds of distance apart.',\n 'what in substance both the esquimau wizards and the louisiana swamp priests had chanted to their kindred idols was something very like this the word divisions being guessed at from traditional breaks in the phrase as chanted aloud  ph nglui mglw nafh cthulhu r lyeh wgah nagl fhtagn.',\n 'legrasse had one point in advance of professor webb for several among his mongrel prisoners had repeated to him what older celebrants had told them the words meant.',\n 'this text as given ran something like this  in his house at r lyeh dead cthulhu waits dreaming.',\n 'and now in response to a general and urgent demand inspector legrasse related as fully as possible his experience with the swamp worshippers telling a story to which i could see my uncle attached profound significance.',\n 'it savoured of the wildest dreams of myth maker and theosophist and disclosed an astonishing degree of cosmic imagination among such half castes and pariahs as might be least expected to possess it.',\n 'on november st there had come to the new orleans police a frantic summons from the swamp and lagoon country to the south.',\n 'the squatters there mostly primitive but good natured descendants of lafitte s men were in the grip of stark terror from an unknown thing which had stolen upon them in the night.',\n 'it was voodoo apparently but voodoo of a more terrible sort than they had ever known and some of their women and children had disappeared since the malevolent tom tom had begun its incessant beating far within the black haunted woods where no dweller ventured.',\n 'there were insane shouts and harrowing screams soul chilling chants and dancing devil flames and the frightened messenger added the people could stand it no more.',\n 'so a body of twenty police filling two carriages and an automobile had set out in the late afternoon with the shivering squatter as a guide.',\n 'at the end of the passable road they alighted and for miles splashed on in silence through the terrible cypress woods where day never came.',\n 'ugly roots and malignant hanging nooses of spanish moss beset them and now and then a pile of dank stones or fragment of a rotting wall intensified by its hint of morbid habitation a depression which every malformed tree and every fungous islet combined to create.',\n 'at length the squatter settlement a miserable huddle of huts hove in sight and hysterical dwellers ran out to cluster around the group of bobbing lanterns.',\n 'the muffled beat of tom toms was now faintly audible far far ahead and a curdling shriek came at infrequent intervals when the wind shifted.',\n 'a reddish glare too seemed to filter through the pale undergrowth beyond endless avenues of forest night.',\n 'reluctant even to be left alone again each one of the cowed squatters refused point blank to advance another inch toward the scene of unholy worship so inspector legrasse and his nineteen colleagues plunged on unguided into black arcades of horror that none of them had ever trod before.',\n 'the region now entered by the police was one of traditionally evil repute substantially unknown and untraversed by white men.',\n 'there were legends of a hidden lake unglimpsed by mortal sight in which dwelt a huge formless white polypous thing with luminous eyes and squatters whispered that bat winged devils flew up out of caverns in inner earth to worship it at midnight.',\n 'they said it had been there before d iberville before la salle before the indians and before even the wholesome beasts and birds of the woods.',\n 'it was nightmare itself and to see it was to die.',\n 'but it made men dream and so they knew enough to keep away.',\n 'the present voodoo orgy was indeed on the merest fringe of this abhorred area but that location was bad enough hence perhaps the very place of the worship had terrified the squatters more than the shocking sounds and incidents.',\n 'only poetry or madness could do justice to the noises heard by legrasse s men as they ploughed on through the black morass toward the red glare and the muffled tom toms.',\n 'there are vocal qualities peculiar to men and vocal qualities peculiar to beasts and it is terrible to hear the one when the source should yield the other.',\n 'animal fury and orgiastic licence here whipped themselves to daemoniac heights by howls and squawking ecstasies that tore and reverberated through those nighted woods like pestilential tempests from the gulfs of hell.',\n 'now and then the less organised ululation would cease and from what seemed a well drilled chorus of hoarse voices would rise in sing song chant that hideous phrase or ritual  ph nglui mglw nafh cthulhu r lyeh wgah nagl fhtagn.',\n 'then the men having reached a spot where the trees were thinner came suddenly in sight of the spectacle itself.',\n 'four of them reeled one fainted and two were shaken into a frantic cry which the mad cacophony of the orgy fortunately deadened.',\n 'legrasse dashed swamp water on the face of the fainting man and all stood trembling and nearly hypnotised with horror.',\n 'in a natural glade of the swamp stood a grassy island of perhaps an acre s extent clear of trees and tolerably dry.',\n 'on this now leaped and twisted a more indescribable horde of human abnormality than any but a sime or an angarola could paint.',\n 'void of clothing this hybrid spawn were braying bellowing and writhing about a monstrous ring shaped bonfire in the centre of which revealed by occasional rifts in the curtain of flame stood a great granite monolith some eight feet in height on top of which incongruous with its diminutiveness rested the noxious carven statuette.',\n 'from a wide circle of ten scaffolds set up at regular intervals with the flame girt monolith as a centre hung head downward the oddly marred bodies of the helpless squatters who had disappeared.',\n 'it was inside this circle that the ring of worshippers jumped and roared the general direction of the mass motion being from left to right in endless bacchanal between the ring of bodies and the ring of fire.',\n 'it may have been only imagination and it may have been only echoes which induced one of the men an excitable spaniard to fancy he heard antiphonal responses to the ritual from some far and unillumined spot deeper within the wood of ancient legendry and horror.',\n 'this man joseph d. galvez i later met and questioned and he proved distractingly imaginative.',\n 'he indeed went so far as to hint of the faint beating of great wings and of a glimpse of shining eyes and a mountainous white bulk beyond the remotest trees but i suppose he had been hearing too much native superstition.',\n 'actually the horrified pause of the men was of comparatively brief duration.',\n 'duty came first and although there must have been nearly a hundred mongrel celebrants in the throng the police relied on their firearms and plunged determinedly into the nauseous rout.',\n 'for five minutes the resultant din and chaos were beyond description.',\n 'wild blows were struck shots were fired and escapes were made but in the end legrasse was able to count some forty seven sullen prisoners whom he forced to dress in haste and fall into line between two rows of policemen.',\n 'five of the worshippers lay dead and two severely wounded ones were carried away on improvised stretchers by their fellow prisoners.',\n 'the image on the monolith of course was carefully removed and carried back by legrasse.',\n 'examined at headquarters after a trip of intense strain and weariness the prisoners all proved to be men of a very low mixed blooded and mentally aberrant type.',\n 'most were seamen and a sprinkling of negroes and mulattoes largely west indians or brava portuguese from the cape verde islands gave a colouring of voodooism to the heterogeneous cult.',\n 'but before many questions were asked it became manifest that something far deeper and older than negro fetichism was involved.',\n 'degraded and ignorant as they were the creatures held with surprising consistency to the central idea of their loathsome faith.',\n 'they worshipped so they said the great old ones who lived ages before there were any men and who came to the young world out of the sky.',\n 'those old ones were gone now inside the earth and under the sea but their dead bodies had told their secrets in dreams to the first men who formed a cult which had never died.',\n 'this was that cult and the prisoners said it had always existed and always would exist hidden in distant wastes and dark places all over the world until the time when the great priest cthulhu from his dark house in the mighty city of r lyeh under the waters should rise and bring the earth again beneath his sway.',\n 'some day he would call when the stars were ready and the secret cult would always be waiting to liberate him.',\n 'meanwhile no more must be told.',\n 'there was a secret which even torture could not extract.',\n 'mankind was not absolutely alone among the conscious things of earth for shapes came out of the dark to visit the faithful few.',\n 'but these were not the great old ones.',\n 'no man had ever seen the old ones.',\n 'the carven idol was great cthulhu but none might say whether or not the others were precisely like him.',\n 'no one could read the old writing now but things were told by word of mouth.',\n 'the chanted ritual was not the secret that was never spoken aloud only whispered.',\n 'the chant meant only this in his house at r lyeh dead cthulhu waits dreaming.',\n 'only two of the prisoners were found sane enough to be hanged and the rest were committed to various institutions.',\n 'all denied a part in the ritual murders and averred that the killing had been done by black winged ones which had come to them from their immemorial meeting place in the haunted wood.',\n 'but of those mysterious allies no coherent account could ever be gained.',\n 'what the police did extract came mainly from an immensely aged mestizo named castro who claimed to have sailed to strange ports and talked with undying leaders of the cult in the mountains of china.',\n 'old castro remembered bits of hideous legend that paled the speculations of theosophists and made man and the world seem recent and transient indeed.',\n 'there had been aeons when other things ruled on the earth and they had had great cities.',\n 'remains of them he said the deathless chinamen had told him were still to be found as cyclopean stones on islands in the pacific.',\n 'they all died vast epochs of time before men came but there were arts which could revive them when the stars had come round again to the right positions in the cycle of eternity.',\n 'they had indeed come themselves from the stars and brought their images with them.',\n 'these great old ones castro continued were not composed altogether of flesh and blood.',\n 'they had shape for did not this star fashioned image prove it.',\n 'but that shape was not made of matter.',\n 'when the stars were right they could plunge from world to world through the sky but when the stars were wrong they could not live.',\n 'but although they no longer lived they would never really die.',\n 'they all lay in stone houses in their great city of r lyeh preserved by the spells of mighty cthulhu for a glorious resurrection when the stars and the earth might once more be ready for them.',\n 'but at that time some force from outside must serve to liberate their bodies.',\n 'the spells that preserved them intact likewise prevented them from making an initial move and they could only lie awake in the dark and think whilst uncounted millions of years rolled by.',\n 'they knew all that was occurring in the universe but their mode of speech was transmitted thought.',\n 'even now they talked in their tombs.',\n 'when after infinities of chaos the first men came the great old ones spoke to the sensitive among them by moulding their dreams for only thus could their language reach the fleshly minds of mammals.',\n 'then whispered castro those first men formed the cult around small idols which the great ones shewed them idols brought in dim aeras from dark stars.',\n 'that cult would never die till the stars came right again and the secret priests would take great cthulhu from his tomb to revive his subjects and resume his rule of earth.',\n 'the time would be easy to know for then mankind would have become as the great old ones free and wild and beyond good and evil with laws and morals thrown aside and all men shouting and killing and revelling in joy.',\n 'then the liberated old ones would teach them new ways to shout and kill and revel and enjoy themselves and all the earth would flame with a holocaust of ecstasy and freedom.',\n 'meanwhile the cult by appropriate rites must keep alive the memory of those ancient ways and shadow forth the prophecy of their return.',\n 'in the elder time chosen men had talked with the entombed old ones in dreams but then something had happened.',\n 'the great stone city r lyeh with its monoliths and sepulchres had sunk beneath the waves and the deep waters full of the one primal mystery through which not even thought can pass had cut off the spectral intercourse.',\n 'but memory never died and high priests said that the city would rise again when the stars were right.',\n 'then came out of the earth the black spirits of earth mouldy and shadowy and full of dim rumours picked up in caverns beneath forgotten sea bottoms.',\n 'but of them old castro dared not speak much.',\n 'he cut himself off hurriedly and no amount of persuasion or subtlety could elicit more in this direction.',\n 'the size of the old ones too he curiously declined to mention.',\n 'of the cult he said that he thought the centre lay amid the pathless deserts of arabia where irem the city of pillars dreams hidden and untouched.',\n 'it was not allied to the european witch cult and was virtually unknown beyond its members.',\n 'no book had ever really hinted of it though the deathless chinamen said that there were double meanings in the necronomicon of the mad arab abdul alhazred which the initiated might read as they chose especially the much discussed couplet   that is not dead which can eternal lie and with strange aeons even death may die.',\n 'legrasse deeply impressed and not a little bewildered had inquired in vain concerning the historic affiliations of the cult.',\n 'castro apparently had told the truth when he said that it was wholly secret.',\n 'the authorities at tulane university could shed no light upon either cult or image and now the detective had come to the highest authorities in the country and met with no more than the greenland tale of professor webb.',\n 'the feverish interest aroused at the meeting by legrasse s tale corroborated as it was by the statuette is echoed in the subsequent correspondence of those who attended although scant mention occurs in the formal publications of the society.',\n 'caution is the first care of those accustomed to face occasional charlatanry and imposture.',\n 'legrasse for some time lent the image to professor webb but at the latter s death it was returned to him and remains in his possession where i viewed it not long ago.',\n 'it is truly a terrible thing and unmistakably akin to the dream sculpture of young wilcox.',\n 'that my uncle was excited by the tale of the sculptor i did not wonder for what thoughts must arise upon hearing after a knowledge of what legrasse had learned of the cult of a sensitive young man who had dreamed not only the figure and exact hieroglyphics of the swamp found image and the greenland devil tablet but had come in his dreams upon at least three of the precise words of the formula uttered alike by esquimau diabolists and mongrel louisianans.',\n 'professor angell s instant start on an investigation of the utmost thoroughness was eminently natural though privately i suspected young wilcox of having heard of the cult in some indirect way and of having invented a series of dreams to heighten and continue the mystery at my uncle s expense.',\n 'the dream narratives and cuttings collected by the professor were of course strong corroboration but the rationalism of my mind and the extravagance of the whole subject led me to adopt what i thought the most sensible conclusions.',\n 'so after thoroughly studying the manuscript again and correlating the theosophical and anthropological notes with the cult narrative of legrasse i made a trip to providence to see the sculptor and give him the rebuke i thought proper for so boldly imposing upon a learned and aged man.',\n 'wilcox still lived alone in the fleur de lys building in thomas street a hideous victorian imitation of seventeenth century breton architecture which flaunts its stuccoed front amidst the lovely colonial houses on the ancient hill and under the very shadow of the finest georgian steeple in america.',\n 'i found him at work in his rooms and at once conceded from the specimens scattered about that his genius is indeed profound and authentic.',\n 'he will i believe some time be heard from as one of the great decadents for he has crystallised in clay and will one day mirror in marble those nightmares and phantasies which arthur machen evokes in prose and clark ashton smith makes visible in verse and in painting.',\n 'dark frail and somewhat unkempt in aspect he turned languidly at my knock and asked me my business without rising.',\n 'when i told him who i was he displayed some interest for my uncle had excited his curiosity in probing his strange dreams yet had never explained the reason for the study.',\n 'i did not enlarge his knowledge in this regard but sought with some subtlety to draw him out.',\n 'in a short time i became convinced of his absolute sincerity for he spoke of the dreams in a manner none could mistake.',\n 'they and their subconscious residuum had influenced his art profoundly and he shewed me a morbid statue whose contours almost made me shake with the potency of its black suggestion.',\n 'he could not recall having seen the original of this thing except in his own dream bas relief but the outlines had formed themselves insensibly under his hands.',\n 'it was no doubt the giant shape he had raved of in delirium.',\n 'that he really knew nothing of the hidden cult save from what my uncle s relentless catechism had let fall he soon made clear and again i strove to think of some way in which he could possibly have received the weird impressions.',\n 'he talked of his dreams in a strangely poetic fashion making me see with terrible vividness the damp cyclopean city of slimy green stone whose geometry he oddly said was all wrong and hear with frightened expectancy the ceaseless half mental calling from underground cthulhu fhtagn cthulhu fhtagn .',\n 'these words had formed part of that dread ritual which told of dead cthulhu s dream vigil in his stone vault at r lyeh and i felt deeply moved despite my rational beliefs.',\n 'wilcox i was sure had heard of the cult in some casual way and had soon forgotten it amidst the mass of his equally weird reading and imagining.',\n 'later by virtue of its sheer impressiveness it had found subconscious expression in dreams in the bas relief and in the terrible statue i now beheld so that his imposture upon my uncle had been a very innocent one.',\n 'the youth was of a type at once slightly affected and slightly ill mannered which i could never like but i was willing enough now to admit both his genius and his honesty.',\n 'i took leave of him amicably and wish him all the success his talent promises.',\n 'the matter of the cult still remained to fascinate me and at times i had visions of personal fame from researches into its origin and connexions.',\n 'i visited new orleans talked with legrasse and others of that old time raiding party saw the frightful image and even questioned such of the mongrel prisoners as still survived.',\n 'old castro unfortunately had been dead for some years.',\n 'what i now heard so graphically at first hand though it was really no more than a detailed confirmation of what my uncle had written excited me afresh for i felt sure that i was on the track of a very real very secret and very ancient religion whose discovery would make me an anthropologist of note.',\n 'my attitude was still one of absolute materialism as i wish it still were and i discounted with almost inexplicable perversity the coincidence of the dream notes and odd cuttings collected by professor angell.',\n 'one thing i began to suspect and which i now fear i know is that my uncle s death was far from natural.',\n 'he fell on a narrow hill street leading up from an ancient waterfront swarming with foreign mongrels after a careless push from a negro sailor.',\n 'i did not forget the mixed blood and marine pursuits of the cult members in louisiana and would not be surprised to learn of secret methods and poison needles as ruthless and as anciently known as the cryptic rites and beliefs.',\n 'legrasse and his men it is true have been let alone but in norway a certain seaman who saw things is dead.',\n 'might not the deeper inquiries of my uncle after encountering the sculptor s data have come to sinister ears.',\n 'i think professor angell died because he knew too much or because he was likely to learn too much.',\n 'whether i shall go as he did remains to be seen for i have learned much now.',\n 'iii.',\n 'the madness from the sea.',\n 'if heaven ever wishes to grant me a boon it will be a total effacing of the results of a mere chance which fixed my eye on a certain stray piece of shelf paper.',\n 'it was nothing on which i would naturally have stumbled in the course of my daily round for it was an old number of an australian journal the sydney bulletin for april .',\n 'it had escaped even the cutting bureau which had at the time of its issuance been avidly collecting material for my uncle s research.',\n 'i had largely given over my inquiries into what professor angell called the cthulhu cult and was visiting a learned friend in paterson new jersey the curator of a local museum and a mineralogist of note.',\n 'examining one day the reserve specimens roughly set on the storage shelves in a rear room of the museum my eye was caught by an odd picture in one of the old papers spread beneath the stones.',\n 'it was the sydney bulletin i have mentioned for my friend has wide affiliations in all conceivable foreign parts and the picture was a half tone cut of a hideous stone image almost identical with that which legrasse had found in the swamp.',\n 'eagerly clearing the sheet of its precious contents i scanned the item in detail and was disappointed to find it of only moderate length.',\n 'what it suggested however was of portentous significance to my flagging quest and i carefully tore it out for immediate action.',\n 'it read as follows mystery derelict found at sea vigilant arrives with helpless armed new zealand yacht in tow.',\n 'one survivor and dead man found aboard.',\n 'tale of desperate battle and deaths at sea.',\n 'rescued seaman refuses particulars of strange experience.',\n 'odd idol found in his possession.',\n 'inquiry to follow.',\n 'the morrison co. s freighter vigilant bound from valparaiso arrived this morning at its wharf in darling harbour having in tow the battled and disabled but heavily armed steam yacht alert of dunedin n. z. which was sighted april th in s. latitude w. longitude with one living and one dead man aboard.',\n 'the vigilant left valparaiso march th and on april nd was driven considerably south of her course by exceptionally heavy storms and monster waves.',\n 'on april th the derelict was sighted and though apparently deserted was found upon boarding to contain one survivor in a half delirious condition and one man who had evidently been dead for more than a week.',\n 'the living man was clutching a horrible stone idol of unknown origin about a foot in height regarding whose nature authorities at sydney university the royal society and the museum in college street all profess complete bafflement and which the survivor says he found in the cabin of the yacht in a small carved shrine of common pattern.',\n 'this man after recovering his senses told an exceedingly strange story of piracy and slaughter.',\n 'he is gustaf johansen a norwegian of some intelligence and had been second mate of the two masted schooner emma of auckland which sailed for callao february th with a complement of eleven men.',\n 'the emma he says was delayed and thrown widely south of her course by the great storm of march st and on march nd in s. latitude w. longitude encountered the alert manned by a queer and evil looking crew of kanakas and half castes.',\n 'being ordered peremptorily to turn back capt.',\n 'collins refused whereupon the strange crew began to fire savagely and without warning upon the schooner with a peculiarly heavy battery of brass cannon forming part of the yacht s equipment.',\n 'the emma s men shewed fight says the survivor and though the schooner began to sink from shots beneath the waterline they managed to heave alongside their enemy and board her grappling with the savage crew on the yacht s deck and being forced to kill them all the number being slightly superior because of their particularly abhorrent and desperate though rather clumsy mode of fighting.',\n 'three of the emma s men including capt.',\n 'collins and first mate green were killed and the remaining eight under second mate johansen proceeded to navigate the captured yacht going ahead in their original direction to see if any reason for their ordering back had existed.',\n 'the next day it appears they raised and landed on a small island although none is known to exist in that part of the ocean and six of the men somehow died ashore though johansen is queerly reticent about this part of his story and speaks only of their falling into a rock chasm.',\n 'later it seems he and one companion boarded the yacht and tried to manage her but were beaten about by the storm of april nd.',\n 'from that time till his rescue on the th the man remembers little and he does not even recall when william briden his companion died.',\n 'briden s death reveals no apparent cause and was probably due to excitement or exposure.',\n 'cable advices from dunedin report that the alert was well known there as an island trader and bore an evil reputation along the waterfront.',\n 'it was owned by a curious group of half castes whose frequent meetings and night trips to the woods attracted no little curiosity and it had set sail in great haste just after the storm and earth tremors of march st. our auckland correspondent gives the emma and her crew an excellent reputation and johansen is described as a sober and worthy man.',\n 'the admiralty will institute an inquiry on the whole matter beginning tomorrow at which every effort will be made to induce johansen to speak more freely than he has done hitherto.',\n 'this was all together with the picture of the hellish image but what a train of ideas it started in my mind.',\n 'here were new treasuries of data on the cthulhu cult and evidence that it had strange interests at sea as well as on land.',\n 'what motive prompted the hybrid crew to order back the emma as they sailed about with their hideous idol.',\n 'what was the unknown island on which six of the emma s crew had died and about which the mate johansen was so secretive.',\n 'what had the vice admiralty s investigation brought out and what was known of the noxious cult in dunedin.',\n 'and most marvellous of all what deep and more than natural linkage of dates was this which gave a malign and now undeniable significance to the various turns of events so carefully noted by my uncle.',\n 'march st our february th according to the international date line the earthquake and storm had come.',\n 'from dunedin the alert and her noisome crew had darted eagerly forth as if imperiously summoned and on the other side of the earth poets and artists had begun to dream of a strange dank cyclopean city whilst a young sculptor had moulded in his sleep the form of the dreaded cthulhu.',\n 'march d the crew of the emma landed on an unknown island and left six men dead and on that date the dreams of sensitive men assumed a heightened vividness and darkened with dread of a giant monster s malign pursuit whilst an architect had gone mad and a sculptor had lapsed suddenly into delirium.',\n 'and what of this storm of april nd the date on which all dreams of the dank city ceased and wilcox emerged unharmed from the bondage of strange fever.',\n 'what of all this and of those hints of old castro about the sunken star born old ones and their coming reign their faithful cult and their mastery of dreams.',\n 'was i tottering on the brink of cosmic horrors beyond man s power to bear.',\n 'if so they must be horrors of the mind alone for in some way the second of april had put a stop to whatever monstrous menace had begun its siege of mankind s soul.',\n 'that evening after a day of hurried cabling and arranging i bade my host adieu and took a train for san francisco.',\n 'in less than a month i was in dunedin where however i found that little was known of the strange cult members who had lingered in the old sea taverns.',\n 'waterfront scum was far too common for special mention though there was vague talk about one inland trip these mongrels had made during which faint drumming and red flame were noted on the distant hills.',\n 'in auckland i learned that johansen had returned with yellow hair turned white after a perfunctory and inconclusive questioning at sydney and had thereafter sold his cottage in west street and sailed with his wife to his old home in oslo.',\n 'of his stirring experience he would tell his friends no more than he had told the admiralty officials and all they could do was to give me his oslo address.',\n 'after that i went to sydney and talked profitlessly with seamen and members of the vice admiralty court.',\n 'i saw the alert now sold and in commercial use at circular quay in sydney cove but gained nothing from its non committal bulk.',\n 'the crouching image with its cuttlefish head dragon body scaly wings and hieroglyphed pedestal was preserved in the museum at hyde park and i studied it long and well finding it a thing of balefully exquisite workmanship and with the same utter mystery terrible antiquity and unearthly strangeness of material which i had noted in legrasse s smaller specimen.',\n 'geologists the curator told me had found it a monstrous puzzle for they vowed that the world held no rock like it.',\n 'then i thought with a shudder of what old castro had told legrasse about the primal great ones they had come from the stars and had brought their images with them.',\n 'shaken with such a mental revolution as i had never before known i now resolved to visit mate johansen in oslo.',\n 'sailing for london i re mbarked at once for the norwegian capital and one autumn day landed at the trim wharves in the shadow of the egeberg.',\n 'johansen s address i discovered lay in the old town of king harold haardrada which kept alive the name of oslo during all the centuries that the greater city masqueraded as christiana .',\n 'i made the brief trip by taxicab and knocked with palpitant heart at the door of a neat and ancient building with plastered front.',\n 'a sad faced woman in black answered my summons and i was stung with disappointment when she told me in halting english that gustaf johansen was no more.',\n 'he had not survived his return said his wife for the doings at sea in had broken him.',\n 'he had told her no more than he had told the public but had left a long manuscript of technical matters as he said written in english evidently in order to safeguard her from the peril of casual perusal.',\n 'during a walk through a narrow lane near the gothenburg dock a bundle of papers falling from an attic window had knocked him down.',\n 'two lascar sailors at once helped him to his feet but before the ambulance could reach him he was dead.',\n 'physicians found no adequate cause for the end and laid it to heart trouble and a weakened constitution.',\n 'i now felt gnawing at my vitals that dark terror which will never leave me till i too am at rest accidentally or otherwise.',\n 'persuading the widow that my connexion with her husband s technical matters was sufficient to entitle me to his manuscript i bore the document away and began to read it on the london boat.',\n 'it was a simple rambling thing a naive sailor s effort at a post facto diary and strove to recall day by day that last awful voyage.',\n 'i cannot attempt to transcribe it verbatim in all its cloudiness and redundance but i will tell its gist enough to shew why the sound of the water against the vessel s sides became so unendurable to me that i stopped my ears with cotton.',\n 'johansen thank god did not know quite all even though he saw the city and the thing but i shall never sleep calmly again when i think of the horrors that lurk ceaselessly behind life in time and in space and of those unhallowed blasphemies from elder stars which dream beneath the sea known and favoured by a nightmare cult ready and eager to loose them on the world whenever another earthquake shall heave their monstrous stone city again to the sun and air.',\n 'johansen s voyage had begun just as he told it to the vice admiralty.',\n 'the emma in ballast had cleared auckland on february th and had felt the full force of that earthquake born tempest which must have heaved up from the sea bottom the horrors that filled men s dreams.',\n 'once more under control the ship was making good progress when held up by the alert on march nd and i could feel the mate s regret as he wrote of her bombardment and sinking.',\n 'of the swarthy cult fiends on the alert he speaks with significant horror.',\n 'there was some peculiarly abominable quality about them which made their destruction seem almost a duty and johansen shews ingenuous wonder at the charge of ruthlessness brought against his party during the proceedings of the court of inquiry.',\n 'then driven ahead by curiosity in their captured yacht under johansen s command the men sight a great stone pillar sticking out of the sea and in s. latitude w. longitude come upon a coast line of mingled mud ooze and weedy cyclopean masonry which can be nothing less than the tangible substance of earth s supreme terror the nightmare corpse city of r lyeh that was built in measureless aeons behind history by the vast loathsome shapes that seeped down from the dark stars.',\n 'there lay great cthulhu and his hordes hidden in green slimy vaults and sending out at last after cycles incalculable the thoughts that spread fear to the dreams of the sensitive and called imperiously to the faithful to come on a pilgrimage of liberation and restoration.',\n 'all this johansen did not suspect but god knows he soon saw enough.',\n 'i suppose that only a single mountain top the hideous monolith crowned citadel whereon great cthulhu was buried actually emerged from the waters.',\n 'when i think of the extent of all that may be brooding down there i almost wish to kill myself forthwith.',\n 'johansen and his men were awed by the cosmic majesty of this dripping babylon of elder daemons and must have guessed without guidance that it was nothing of this or of any sane planet.',\n 'awe at the unbelievable size of the greenish stone blocks at the dizzying height of the great carven monolith and at the stupefying identity of the colossal statues and bas reliefs with the queer image found in the shrine on the alert is poignantly visible in every line of the mate s frightened description.',\n 'without knowing what futurism is like johansen achieved something very close to it when he spoke of the city for instead of describing any definite structure or building he dwells only on broad impressions of vast angles and stone surfaces surfaces too great to belong to any thing right or proper for this earth and impious with horrible images and hieroglyphs.',\n 'i mention his talk about angles because it suggests something wilcox had told me of his awful dreams.',\n 'he had said that the geometry of the dream place he saw was abnormal non euclidean and loathsomely redolent of spheres and dimensions apart from ours.',\n 'now an unlettered seaman felt the same thing whilst gazing at the terrible reality.',\n 'johansen and his men landed at a sloping mud bank on this monstrous acropolis and clambered slipperily up over titan oozy blocks which could have been no mortal staircase.',\n 'the very sun of heaven seemed distorted when viewed through the polarising miasma welling out from this sea soaked perversion and twisted menace and suspense lurked leeringly in those crazily elusive angles of carven rock where a second glance shewed concavity after the first shewed convexity.',\n 'something very like fright had come over all the explorers before anything more definite than rock and ooze and weed was seen.',\n 'each would have fled had he not feared the scorn of the others and it was only half heartedly that they searched vainly as it proved for some portable souvenir to bear away.',\n 'it was rodriguez the portuguese who climbed up the foot of the monolith and shouted of what he had found.',\n 'the rest followed him and looked curiously at the immense carved door with the now familiar squid dragon bas relief.',\n 'it was johansen said like a great barn door and they all felt that it was a door because of the ornate lintel threshold and jambs around it though they could not decide whether it lay flat like a trap door or slantwise like an outside cellar door.',\n 'as wilcox would have said the geometry of the place was all wrong.',\n 'one could not be sure that the sea and the ground were horizontal hence the relative position of everything else seemed phantasmally variable.',\n 'briden pushed at the stone in several places without result.',\n 'then donovan felt over it delicately around the edge pressing each point separately as he went.',\n 'he climbed interminably along the grotesque stone moulding that is one would call it climbing if the thing was not after all horizontal and the men wondered how any door in the universe could be so vast.',\n 'then very softly and slowly the acre great panel began to give inward at the top and they saw that it was balanced.',\n 'donovan slid or somehow propelled himself down or along the jamb and rejoined his fellows and everyone watched the queer recession of the monstrously carven portal.',\n 'in this phantasy of prismatic distortion it moved anomalously in a diagonal way so that all the rules of matter and perspective seemed upset.',\n 'the aperture was black with a darkness almost material.',\n 'that tenebrousness was indeed a positive quality for it obscured such parts of the inner walls as ought to have been revealed and actually burst forth like smoke from its aeon long imprisonment visibly darkening the sun as it slunk away into the shrunken and gibbous sky on flapping membraneous wings.',\n 'the odour arising from the newly opened depths was intolerable and at length the quick eared hawkins thought he heard a nasty slopping sound down there.',\n 'everyone listened and everyone was listening still when it lumbered slobberingly into sight and gropingly squeezed its gelatinous green immensity through the black doorway into the tainted outside air of that poison city of madness.',\n 'poor johansen s handwriting almost gave out when he wrote of this.',\n 'of the six men who never reached the ship he thinks two perished of pure fright in that accursed instant.',\n 'the thing cannot be described there is no language for such abysms of shrieking and immemorial lunacy such eldritch contradictions of all matter force and cosmic order.',\n 'a mountain walked or stumbled.',\n 'god.',\n 'what wonder that across the earth a great architect went mad and poor wilcox raved with fever in that telepathic instant.',\n 'the thing of the idols the green sticky spawn of the stars had awaked to claim his own.',\n 'the stars were right again and what an age old cult had failed to do by design a band of innocent sailors had done by accident.',\n 'after vigintillions of years great cthulhu was loose again and ravening for delight.',\n 'three men were swept up by the flabby claws before anybody turned.',\n 'god rest them if there be any rest in the universe.',\n 'they were donovan guerrera and angstrom.',\n 'parker slipped as the other three were plunging frenziedly over endless vistas of green crusted rock to the boat and johansen swears he was swallowed up by an angle of masonry which shouldn t have been there an angle which was acute but behaved as if it were obtuse.',\n 'so only briden and johansen reached the boat and pulled desperately for the alert as the mountainous monstrosity flopped down the slimy stones and hesitated floundering at the edge of the water.',\n 'steam had not been suffered to go down entirely despite the departure of all hands for the shore and it was the work of only a few moments of feverish rushing up and down between wheel and engines to get the alert under way.',\n 'slowly amidst the distorted horrors of that indescribable scene she began to churn the lethal waters whilst on the masonry of that charnel shore that was not of earth the titan thing from the stars slavered and gibbered like polypheme cursing the fleeing ship of odysseus.',\n 'then bolder than the storied cyclops great cthulhu slid greasily into the water and began to pursue with vast wave raising strokes of cosmic potency.',\n 'briden looked back and went mad laughing shrilly as he kept on laughing at intervals till death found him one night in the cabin whilst johansen was wandering deliriously.',\n 'but johansen had not given out yet.',\n 'knowing that the thing could surely overtake the alert until steam was fully up he resolved on a desperate chance and setting the engine for full speed ran lightning like on deck and reversed the wheel.',\n 'there was a mighty eddying and foaming in the noisome brine and as the steam mounted higher and higher the brave norwegian drove his vessel head on against the pursuing jelly which rose above the unclean froth like the stern of a daemon galleon.',\n 'the awful squid head with writhing feelers came nearly up to the bowsprit of the sturdy yacht but johansen drove on relentlessly.',\n 'there was a bursting as of an exploding bladder a slushy nastiness as of a cloven sunfish a stench as of a thousand opened graves and a sound that the chronicler would not put on paper.',\n 'for an instant the ship was befouled by an acrid and blinding green cloud and then there was only a venomous seething astern where god in heaven.',\n 'the scattered plasticity of that nameless sky spawn was nebulously recombining in its hateful original form whilst its distance widened every second as the alert gained impetus from its mounting steam.',\n 'that was all.',\n 'after that johansen only brooded over the idol in the cabin and attended to a few matters of food for himself and the laughing maniac by his side.',\n 'he did not try to navigate after the first bold flight for the reaction had taken something out of his soul.',\n 'then came the storm of april nd and a gathering of the clouds about his consciousness.',\n 'there is a sense of spectral whirling through liquid gulfs of infinity of dizzying rides through reeling universes on a comet s tail and of hysterical plunges from the pit to the moon and from the moon back again to the pit all livened by a cachinnating chorus of the distorted hilarious elder gods and the green bat winged mocking imps of tartarus.',\n 'out of that dream came rescue the vigilant the vice admiralty court the streets of dunedin and the long voyage back home to the old house by the egeberg.',\n 'he could not tell they would think him mad.',\n 'he would write of what he knew before death came but his wife must not guess.',\n 'death would be a boon if only it could blot out the memories.',\n 'that was the document i read and now i have placed it in the tin box beside the bas relief and the papers of professor angell.',\n 'with it shall go this record of mine this test of my own sanity wherein is pieced together that which i hope may never be pieced together again.',\n 'i have looked upon all that the universe has to hold of horror and even the skies of spring and the flowers of summer must ever afterward be poison to me.',\n 'but i do not think my life will be long.',\n 'as my uncle went as poor johansen went so i shall go.',\n 'i know too much and the cult still lives.',\n 'cthulhu still lives too i suppose again in that chasm of stone which has shielded him since the sun was young.',\n 'his accursed city is sunken once more for the vigilant sailed over the spot after the april storm but his ministers on earth still bellow and prance and slay around idol capped monoliths in lonely places.',\n 'he must have been trapped by the sinking whilst within his black abyss or else the world would by now be screaming with fright and frenzy.',\n 'who knows the end.',\n 'what has risen may sink and what has sunk may rise.',\n 'loathsomeness waits and dreams in the deep and decay spreads over the tottering cities of men.',\n 'a time will come but i must not and cannot think.',\n 'let me pray that if i do not survive this manuscript my executors may put caution before audacity and see that it meets no other eye']"
     },
     "execution_count": 5,
     "metadata": {},
     "output_type": "execute_result"
    }
   ],
   "source": [
    "data"
   ]
  },
  {
   "cell_type": "code",
   "execution_count": 6,
   "metadata": {},
   "outputs": [],
   "source": [
    "alphabet = (set(text))\n",
    "alphabet = sorted(alphabet)"
   ]
  },
  {
   "cell_type": "code",
   "execution_count": 7,
   "metadata": {},
   "outputs": [
    {
     "name": "stdout",
     "output_type": "stream",
     "text": [
      "28\n",
      "429\n"
     ]
    }
   ],
   "source": [
    "print(len(alphabet))\n",
    "print(len(data))"
   ]
  },
  {
   "cell_type": "code",
   "execution_count": 8,
   "metadata": {},
   "outputs": [],
   "source": [
    "dct = {}\n",
    "for j in range(len(alphabet)):\n",
    "    dct[alphabet[j]] = j"
   ]
  },
  {
   "cell_type": "code",
   "execution_count": 9,
   "metadata": {},
   "outputs": [
    {
     "data": {
      "text/plain": "{' ': 0,\n '.': 1,\n 'a': 2,\n 'b': 3,\n 'c': 4,\n 'd': 5,\n 'e': 6,\n 'f': 7,\n 'g': 8,\n 'h': 9,\n 'i': 10,\n 'j': 11,\n 'k': 12,\n 'l': 13,\n 'm': 14,\n 'n': 15,\n 'o': 16,\n 'p': 17,\n 'q': 18,\n 'r': 19,\n 's': 20,\n 't': 21,\n 'u': 22,\n 'v': 23,\n 'w': 24,\n 'x': 25,\n 'y': 26,\n 'z': 27}"
     },
     "execution_count": 9,
     "metadata": {},
     "output_type": "execute_result"
    }
   ],
   "source": [
    "dct"
   ]
  },
  {
   "cell_type": "code",
   "execution_count": 10,
   "outputs": [],
   "source": [
    "one_hot_encoding = []\n",
    "for sent in data:\n",
    "    current_s = encode_sentence(sent)\n",
    "    one_hot_encoding.append(current_s)"
   ],
   "metadata": {
    "collapsed": false
   }
  },
  {
   "cell_type": "code",
   "execution_count": 11,
   "outputs": [
    {
     "name": "stdout",
     "output_type": "stream",
     "text": [
      "[0, 0, 0, 0, 0, 0, 0, 0, 0, 0, 0, 0, 0, 0, 0, 0, 0, 0, 0, 0, 0, 1, 0, 0, 0, 0, 0, 0]\n"
     ]
    }
   ],
   "source": [
    "print(one_hot_encoding[0][0])"
   ],
   "metadata": {
    "collapsed": false
   }
  },
  {
   "cell_type": "code",
   "execution_count": 12,
   "outputs": [
    {
     "name": "stdout",
     "output_type": "stream",
     "text": [
      "429\n",
      "110\n",
      "28\n"
     ]
    }
   ],
   "source": [
    "print(len(one_hot_encoding))\n",
    "print(len(one_hot_encoding[0]))\n",
    "print(len(one_hot_encoding[0][0]))"
   ],
   "metadata": {
    "collapsed": false
   }
  },
  {
   "cell_type": "code",
   "execution_count": 13,
   "outputs": [],
   "source": [
    "X = []\n",
    "Y = []\n",
    "limit = 20\n",
    "for sent in one_hot_encoding:\n",
    "    for j in range(len(sent) - limit):\n",
    "        X.append(sent[j:j + limit])\n",
    "        Y.append(sent[j + limit])\n",
    "X = np.array(X)\n",
    "Y = np.array(Y)"
   ],
   "metadata": {
    "collapsed": false
   }
  },
  {
   "cell_type": "code",
   "execution_count": 14,
   "outputs": [
    {
     "name": "stdout",
     "output_type": "stream",
     "text": [
      "(59271, 20, 28)\n",
      "(59271, 28)\n",
      "20\n"
     ]
    }
   ],
   "source": [
    "print(X.shape)\n",
    "print(Y.shape)"
   ],
   "metadata": {
    "collapsed": false
   }
  },
  {
   "cell_type": "markdown",
   "source": [
    "## LSTM"
   ],
   "metadata": {
    "collapsed": false
   }
  },
  {
   "cell_type": "code",
   "execution_count": 86,
   "outputs": [
    {
     "name": "stdout",
     "output_type": "stream",
     "text": [
      "Model: \"sequential_4\"\n",
      "_________________________________________________________________\n",
      " Layer (type)                Output Shape              Param #   \n",
      "=================================================================\n",
      " lstm_4 (LSTM)               (None, 256)               291840    \n",
      "                                                                 \n",
      " dropout_4 (Dropout)         (None, 256)               0         \n",
      "                                                                 \n",
      " dense_4 (Dense)             (None, 28)                7196      \n",
      "                                                                 \n",
      "=================================================================\n",
      "Total params: 299,036\n",
      "Trainable params: 299,036\n",
      "Non-trainable params: 0\n",
      "_________________________________________________________________\n"
     ]
    }
   ],
   "source": [
    "a = X.shape[1]\n",
    "b = len(alphabet)\n",
    "model = keras.Sequential(\n",
    "    [\n",
    "        keras.Input(shape=(a, b)),\n",
    "        keras.layers.LSTM(256),\n",
    "        keras.layers.Dropout(0.1),\n",
    "        keras.layers.Dense(b, activation=\"softmax\"),\n",
    "    ]\n",
    ")\n",
    "model.compile(loss=\"categorical_crossentropy\", optimizer=\"adam\")\n",
    "model.summary()"
   ],
   "metadata": {
    "collapsed": false
   }
  },
  {
   "cell_type": "code",
   "execution_count": 87,
   "outputs": [
    {
     "name": "stdout",
     "output_type": "stream",
     "text": [
      "Epoch 1/20\n",
      "1853/1853 [==============================] - 75s 40ms/step - loss: 2.3801\n",
      "Epoch 2/20\n",
      "1853/1853 [==============================] - 74s 40ms/step - loss: 2.0191\n",
      "Epoch 3/20\n",
      "1853/1853 [==============================] - 73s 40ms/step - loss: 1.8584\n",
      "Epoch 4/20\n",
      "1853/1853 [==============================] - 73s 39ms/step - loss: 1.7373\n",
      "Epoch 5/20\n",
      "1853/1853 [==============================] - 73s 39ms/step - loss: 1.6338\n",
      "Epoch 6/20\n",
      "1853/1853 [==============================] - 73s 39ms/step - loss: 1.5359\n",
      "Epoch 7/20\n",
      "1853/1853 [==============================] - 73s 40ms/step - loss: 1.4455\n",
      "Epoch 8/20\n",
      "1853/1853 [==============================] - 73s 40ms/step - loss: 1.3560\n",
      "Epoch 9/20\n",
      "1853/1853 [==============================] - 73s 39ms/step - loss: 1.2708\n",
      "Epoch 10/20\n",
      "1853/1853 [==============================] - 73s 39ms/step - loss: 1.1823\n",
      "Epoch 11/20\n",
      "1853/1853 [==============================] - 73s 39ms/step - loss: 1.0999\n",
      "Epoch 12/20\n",
      "1853/1853 [==============================] - 73s 39ms/step - loss: 1.0242\n",
      "Epoch 13/20\n",
      "1853/1853 [==============================] - 74s 40ms/step - loss: 0.9525\n",
      "Epoch 14/20\n",
      "1853/1853 [==============================] - 73s 39ms/step - loss: 0.8798\n",
      "Epoch 15/20\n",
      "1853/1853 [==============================] - 73s 39ms/step - loss: 0.8155\n",
      "Epoch 16/20\n",
      "1853/1853 [==============================] - 73s 40ms/step - loss: 0.7589\n",
      "Epoch 17/20\n",
      "1853/1853 [==============================] - 73s 39ms/step - loss: 0.7138\n",
      "Epoch 18/20\n",
      "1853/1853 [==============================] - 72s 39ms/step - loss: 0.6649\n",
      "Epoch 19/20\n",
      "1853/1853 [==============================] - 72s 39ms/step - loss: 0.6317\n",
      "Epoch 20/20\n",
      "1853/1853 [==============================] - 72s 39ms/step - loss: 0.5996\n"
     ]
    },
    {
     "data": {
      "text/plain": "<keras.callbacks.History at 0x18aa1014280>"
     },
     "execution_count": 87,
     "metadata": {},
     "output_type": "execute_result"
    }
   ],
   "source": [
    "model.fit(X, Y, epochs=20)"
   ],
   "metadata": {
    "collapsed": false
   }
  },
  {
   "cell_type": "code",
   "execution_count": 105,
   "outputs": [
    {
     "name": "stdout",
     "output_type": "stream",
     "text": [
      "1/1 [==============================] - 0s 22ms/step\n",
      "1/1 [==============================] - 0s 21ms/step\n",
      "1/1 [==============================] - 0s 20ms/step\n",
      "1/1 [==============================] - 0s 22ms/step\n",
      "1/1 [==============================] - 0s 20ms/step\n",
      "1/1 [==============================] - 0s 18ms/step\n",
      "1/1 [==============================] - 0s 19ms/step\n",
      "1/1 [==============================] - 0s 20ms/step\n",
      "1/1 [==============================] - 0s 20ms/step\n",
      "1/1 [==============================] - 0s 19ms/step\n",
      "1/1 [==============================] - 0s 20ms/step\n",
      "1/1 [==============================] - 0s 20ms/step\n",
      "1/1 [==============================] - 0s 20ms/step\n",
      "1/1 [==============================] - 0s 20ms/step\n",
      "1/1 [==============================] - 0s 20ms/step\n",
      "1/1 [==============================] - 0s 18ms/step\n",
      "1/1 [==============================] - 0s 20ms/step\n",
      "1/1 [==============================] - 0s 22ms/step\n",
      "1/1 [==============================] - 0s 8ms/step\n",
      "1/1 [==============================] - 0s 20ms/step\n",
      "1/1 [==============================] - 0s 19ms/step\n",
      "1/1 [==============================] - 0s 19ms/step\n",
      "1/1 [==============================] - 0s 20ms/step\n",
      "1/1 [==============================] - 0s 19ms/step\n",
      "1/1 [==============================] - 0s 19ms/step\n",
      "1/1 [==============================] - 0s 18ms/step\n",
      "1/1 [==============================] - 0s 19ms/step\n",
      "1/1 [==============================] - 0s 20ms/step\n",
      "1/1 [==============================] - 0s 21ms/step\n",
      "1/1 [==============================] - 0s 20ms/step\n",
      "1/1 [==============================] - 0s 19ms/step\n",
      "1/1 [==============================] - 0s 19ms/step\n",
      "1/1 [==============================] - 0s 19ms/step\n",
      "1/1 [==============================] - 0s 21ms/step\n",
      "1/1 [==============================] - 0s 21ms/step\n",
      "1/1 [==============================] - 0s 19ms/step\n",
      "1/1 [==============================] - 0s 19ms/step\n",
      "1/1 [==============================] - 0s 22ms/step\n",
      "1/1 [==============================] - 0s 10ms/step\n",
      "1/1 [==============================] - 0s 19ms/step\n",
      "1/1 [==============================] - 0s 19ms/step\n",
      "1/1 [==============================] - 0s 19ms/step\n",
      "1/1 [==============================] - 0s 20ms/step\n",
      "1/1 [==============================] - 0s 21ms/step\n",
      "1/1 [==============================] - 0s 18ms/step\n",
      "1/1 [==============================] - 0s 20ms/step\n",
      "1/1 [==============================] - 0s 20ms/step\n",
      "1/1 [==============================] - 0s 19ms/step\n",
      "1/1 [==============================] - 0s 18ms/step\n",
      "1/1 [==============================] - 0s 32ms/step\n",
      "1/1 [==============================] - 0s 20ms/step\n",
      "1/1 [==============================] - 0s 20ms/step\n",
      "1/1 [==============================] - 0s 18ms/step\n",
      "1/1 [==============================] - 0s 19ms/step\n",
      "1/1 [==============================] - 0s 20ms/step\n",
      "1/1 [==============================] - 0s 20ms/step\n",
      "1/1 [==============================] - 0s 19ms/step\n",
      "1/1 [==============================] - 0s 20ms/step\n",
      "1/1 [==============================] - 0s 21ms/step\n",
      "1/1 [==============================] - 0s 20ms/step\n",
      "1/1 [==============================] - 0s 19ms/step\n",
      "1/1 [==============================] - 0s 19ms/step\n",
      "1/1 [==============================] - 0s 19ms/step\n",
      "1/1 [==============================] - 0s 19ms/step\n",
      "1/1 [==============================] - 0s 19ms/step\n",
      "1/1 [==============================] - 0s 19ms/step\n",
      "1/1 [==============================] - 0s 19ms/step\n",
      "1/1 [==============================] - 0s 20ms/step\n",
      "1/1 [==============================] - 0s 18ms/step\n",
      "1/1 [==============================] - 0s 19ms/step\n",
      "1/1 [==============================] - 0s 19ms/step\n",
      "1/1 [==============================] - 0s 19ms/step\n",
      "1/1 [==============================] - 0s 19ms/step\n",
      "1/1 [==============================] - 0s 19ms/step\n",
      "1/1 [==============================] - 0s 19ms/step\n",
      "1/1 [==============================] - 0s 20ms/step\n",
      "1/1 [==============================] - 0s 19ms/step\n",
      "1/1 [==============================] - 0s 20ms/step\n",
      "1/1 [==============================] - 0s 19ms/step\n",
      "1/1 [==============================] - 0s 9ms/step\n",
      "1/1 [==============================] - 0s 18ms/step\n",
      "1/1 [==============================] - 0s 19ms/step\n",
      "1/1 [==============================] - 0s 19ms/step\n",
      "1/1 [==============================] - 0s 20ms/step\n",
      "1/1 [==============================] - 0s 19ms/step\n",
      "1/1 [==============================] - 0s 20ms/step\n",
      "1/1 [==============================] - 0s 18ms/step\n",
      "1/1 [==============================] - 0s 19ms/step\n",
      "1/1 [==============================] - 0s 19ms/step\n",
      "1/1 [==============================] - 0s 19ms/step\n",
      "1/1 [==============================] - 0s 33ms/step\n",
      "1/1 [==============================] - 0s 20ms/step\n",
      "1/1 [==============================] - 0s 19ms/step\n",
      "1/1 [==============================] - 0s 20ms/step\n",
      "1/1 [==============================] - 0s 20ms/step\n",
      "1/1 [==============================] - 0s 20ms/step\n",
      "1/1 [==============================] - 0s 20ms/step\n",
      "1/1 [==============================] - 0s 19ms/step\n",
      "1/1 [==============================] - 0s 21ms/step\n",
      "1/1 [==============================] - 0s 20ms/step\n",
      "1/1 [==============================] - 0s 16ms/step\n",
      "part of the manuscript\n",
      " conser of the stars and had from the sea and the seemed death forghthen commenting the pertination o\n",
      "part of the manuscript conser of the stars and had from the sea and the seemed death forghthen commenting the pertination o\n"
     ]
    }
   ],
   "source": [
    "example = \"part of the manuscript\"\n",
    "gen = generate_text(example)\n",
    "print(example)\n",
    "print(gen)\n",
    "print(example + gen)"
   ],
   "metadata": {
    "collapsed": false
   }
  },
  {
   "cell_type": "code",
   "execution_count": 90,
   "outputs": [
    {
     "name": "stdout",
     "output_type": "stream",
     "text": [
      "1/1 [==============================] - 0s 19ms/step\n",
      "1/1 [==============================] - 0s 23ms/step\n",
      "1/1 [==============================] - 0s 20ms/step\n",
      "1/1 [==============================] - 0s 19ms/step\n",
      "1/1 [==============================] - 0s 19ms/step\n",
      "1/1 [==============================] - 0s 20ms/step\n",
      "1/1 [==============================] - 0s 20ms/step\n",
      "1/1 [==============================] - 0s 20ms/step\n",
      "1/1 [==============================] - 0s 20ms/step\n",
      "1/1 [==============================] - 0s 21ms/step\n",
      "1/1 [==============================] - 0s 20ms/step\n",
      "1/1 [==============================] - 0s 19ms/step\n",
      "1/1 [==============================] - 0s 20ms/step\n",
      "1/1 [==============================] - 0s 19ms/step\n",
      "1/1 [==============================] - 0s 20ms/step\n",
      "1/1 [==============================] - 0s 19ms/step\n",
      "1/1 [==============================] - 0s 18ms/step\n",
      "1/1 [==============================] - 0s 19ms/step\n",
      "1/1 [==============================] - 0s 20ms/step\n",
      "1/1 [==============================] - 0s 20ms/step\n",
      "1/1 [==============================] - 0s 20ms/step\n",
      "1/1 [==============================] - 0s 18ms/step\n",
      "1/1 [==============================] - 0s 19ms/step\n",
      "1/1 [==============================] - 0s 20ms/step\n",
      "1/1 [==============================] - 0s 20ms/step\n",
      "1/1 [==============================] - 0s 20ms/step\n",
      "1/1 [==============================] - 0s 20ms/step\n",
      "1/1 [==============================] - 0s 19ms/step\n",
      "1/1 [==============================] - 0s 20ms/step\n",
      "1/1 [==============================] - 0s 19ms/step\n",
      "1/1 [==============================] - 0s 20ms/step\n",
      "1/1 [==============================] - 0s 20ms/step\n",
      "1/1 [==============================] - 0s 19ms/step\n",
      "1/1 [==============================] - 0s 19ms/step\n",
      "1/1 [==============================] - 0s 19ms/step\n",
      "1/1 [==============================] - 0s 20ms/step\n",
      "1/1 [==============================] - 0s 21ms/step\n",
      "1/1 [==============================] - 0s 19ms/step\n",
      "1/1 [==============================] - 0s 20ms/step\n",
      "1/1 [==============================] - 0s 19ms/step\n",
      "1/1 [==============================] - 0s 19ms/step\n",
      "1/1 [==============================] - 0s 20ms/step\n",
      "1/1 [==============================] - 0s 33ms/step\n",
      "1/1 [==============================] - 0s 19ms/step\n",
      "1/1 [==============================] - 0s 18ms/step\n",
      "1/1 [==============================] - 0s 19ms/step\n",
      "1/1 [==============================] - 0s 19ms/step\n",
      "1/1 [==============================] - 0s 18ms/step\n",
      "1/1 [==============================] - 0s 18ms/step\n",
      "1/1 [==============================] - 0s 20ms/step\n",
      "1/1 [==============================] - 0s 20ms/step\n",
      "1/1 [==============================] - 0s 20ms/step\n",
      "1/1 [==============================] - 0s 26ms/step\n",
      "1/1 [==============================] - 0s 20ms/step\n",
      "1/1 [==============================] - 0s 19ms/step\n",
      "1/1 [==============================] - 0s 21ms/step\n",
      "1/1 [==============================] - 0s 18ms/step\n",
      "1/1 [==============================] - 0s 19ms/step\n",
      "1/1 [==============================] - 0s 19ms/step\n",
      "1/1 [==============================] - 0s 19ms/step\n",
      "1/1 [==============================] - 0s 20ms/step\n",
      "1/1 [==============================] - 0s 19ms/step\n",
      "1/1 [==============================] - 0s 11ms/step\n",
      "1/1 [==============================] - 0s 21ms/step\n",
      "1/1 [==============================] - 0s 18ms/step\n",
      "1/1 [==============================] - 0s 19ms/step\n",
      "1/1 [==============================] - 0s 20ms/step\n",
      "1/1 [==============================] - 0s 19ms/step\n",
      "1/1 [==============================] - 0s 19ms/step\n",
      "1/1 [==============================] - 0s 18ms/step\n",
      "1/1 [==============================] - 0s 20ms/step\n",
      "1/1 [==============================] - 0s 19ms/step\n",
      "1/1 [==============================] - 0s 18ms/step\n",
      "1/1 [==============================] - 0s 19ms/step\n",
      "1/1 [==============================] - 0s 22ms/step\n",
      "1/1 [==============================] - 0s 19ms/step\n",
      "1/1 [==============================] - 0s 19ms/step\n",
      "1/1 [==============================] - 0s 18ms/step\n",
      "1/1 [==============================] - 0s 19ms/step\n",
      "1/1 [==============================] - 0s 20ms/step\n",
      "1/1 [==============================] - 0s 19ms/step\n",
      "1/1 [==============================] - 0s 20ms/step\n",
      "1/1 [==============================] - 0s 20ms/step\n",
      "1/1 [==============================] - 0s 31ms/step\n",
      "1/1 [==============================] - 0s 20ms/step\n",
      "1/1 [==============================] - 0s 19ms/step\n",
      "1/1 [==============================] - 0s 19ms/step\n",
      "1/1 [==============================] - 0s 19ms/step\n",
      "1/1 [==============================] - 0s 19ms/step\n",
      "1/1 [==============================] - 0s 19ms/step\n",
      "1/1 [==============================] - 0s 19ms/step\n",
      "1/1 [==============================] - 0s 20ms/step\n",
      "1/1 [==============================] - 0s 20ms/step\n",
      "1/1 [==============================] - 0s 19ms/step\n",
      "1/1 [==============================] - 0s 18ms/step\n",
      "1/1 [==============================] - 0s 19ms/step\n",
      "1/1 [==============================] - 0s 19ms/step\n",
      "1/1 [==============================] - 0s 19ms/step\n",
      "1/1 [==============================] - 0s 20ms/step\n",
      "1/1 [==============================] - 0s 20ms/step\n",
      "1/1 [==============================] - 0s 18ms/step\n",
      "i looked carefully al\n",
      "y sucked the cult around in ligeties which i found emines on a rites and his hideous prood in despris\n",
      "i looked carefully aly sucked the cult around in ligeties which i found emines on a rites and his hideous prood in despris\n"
     ]
    }
   ],
   "source": [
    "example = \"i looked carefully al\"\n",
    "gen = generate_text(example)\n",
    "print(example)\n",
    "print(gen)\n",
    "print(example + gen)"
   ],
   "metadata": {
    "collapsed": false
   }
  },
  {
   "cell_type": "code",
   "execution_count": 106,
   "outputs": [
    {
     "name": "stdout",
     "output_type": "stream",
     "text": [
      "1/1 [==============================] - 0s 21ms/step\n",
      "1/1 [==============================] - 0s 18ms/step\n",
      "1/1 [==============================] - 0s 20ms/step\n",
      "1/1 [==============================] - 0s 20ms/step\n",
      "1/1 [==============================] - 0s 19ms/step\n",
      "1/1 [==============================] - 0s 19ms/step\n",
      "1/1 [==============================] - 0s 18ms/step\n",
      "1/1 [==============================] - 0s 20ms/step\n",
      "1/1 [==============================] - 0s 20ms/step\n",
      "1/1 [==============================] - 0s 19ms/step\n",
      "1/1 [==============================] - 0s 20ms/step\n",
      "1/1 [==============================] - 0s 29ms/step\n",
      "1/1 [==============================] - 0s 20ms/step\n",
      "1/1 [==============================] - 0s 19ms/step\n",
      "1/1 [==============================] - 0s 19ms/step\n",
      "1/1 [==============================] - 0s 19ms/step\n",
      "1/1 [==============================] - 0s 21ms/step\n",
      "1/1 [==============================] - 0s 19ms/step\n",
      "1/1 [==============================] - 0s 20ms/step\n",
      "1/1 [==============================] - 0s 21ms/step\n",
      "1/1 [==============================] - 0s 19ms/step\n",
      "1/1 [==============================] - 0s 21ms/step\n",
      "1/1 [==============================] - 0s 19ms/step\n",
      "1/1 [==============================] - 0s 19ms/step\n",
      "1/1 [==============================] - 0s 20ms/step\n",
      "1/1 [==============================] - 0s 19ms/step\n",
      "1/1 [==============================] - 0s 19ms/step\n",
      "1/1 [==============================] - 0s 21ms/step\n",
      "1/1 [==============================] - 0s 19ms/step\n",
      "1/1 [==============================] - 0s 19ms/step\n",
      "1/1 [==============================] - 0s 21ms/step\n",
      "1/1 [==============================] - 0s 18ms/step\n",
      "1/1 [==============================] - 0s 19ms/step\n",
      "1/1 [==============================] - 0s 19ms/step\n",
      "1/1 [==============================] - 0s 20ms/step\n",
      "1/1 [==============================] - 0s 20ms/step\n",
      "1/1 [==============================] - 0s 21ms/step\n",
      "1/1 [==============================] - 0s 20ms/step\n",
      "1/1 [==============================] - 0s 19ms/step\n",
      "1/1 [==============================] - 0s 20ms/step\n",
      "1/1 [==============================] - 0s 20ms/step\n",
      "1/1 [==============================] - 0s 20ms/step\n",
      "1/1 [==============================] - 0s 19ms/step\n",
      "1/1 [==============================] - 0s 19ms/step\n",
      "1/1 [==============================] - 0s 21ms/step\n",
      "1/1 [==============================] - 0s 19ms/step\n",
      "1/1 [==============================] - 0s 20ms/step\n",
      "1/1 [==============================] - 0s 20ms/step\n",
      "1/1 [==============================] - 0s 21ms/step\n",
      "1/1 [==============================] - 0s 19ms/step\n",
      "1/1 [==============================] - 0s 20ms/step\n",
      "1/1 [==============================] - 0s 12ms/step\n",
      "1/1 [==============================] - 0s 19ms/step\n",
      "1/1 [==============================] - 0s 20ms/step\n",
      "1/1 [==============================] - 0s 19ms/step\n",
      "1/1 [==============================] - 0s 20ms/step\n",
      "1/1 [==============================] - 0s 21ms/step\n",
      "1/1 [==============================] - 0s 20ms/step\n",
      "1/1 [==============================] - 0s 20ms/step\n",
      "1/1 [==============================] - 0s 20ms/step\n",
      "1/1 [==============================] - 0s 20ms/step\n",
      "1/1 [==============================] - 0s 9ms/step\n",
      "1/1 [==============================] - 0s 20ms/step\n",
      "1/1 [==============================] - 0s 22ms/step\n",
      "1/1 [==============================] - 0s 20ms/step\n",
      "1/1 [==============================] - 0s 19ms/step\n",
      "1/1 [==============================] - 0s 20ms/step\n",
      "1/1 [==============================] - 0s 19ms/step\n",
      "1/1 [==============================] - 0s 19ms/step\n",
      "1/1 [==============================] - 0s 21ms/step\n",
      "1/1 [==============================] - 0s 21ms/step\n",
      "1/1 [==============================] - 0s 29ms/step\n",
      "1/1 [==============================] - 0s 21ms/step\n",
      "1/1 [==============================] - 0s 20ms/step\n",
      "1/1 [==============================] - 0s 21ms/step\n",
      "1/1 [==============================] - 0s 19ms/step\n",
      "1/1 [==============================] - 0s 19ms/step\n",
      "1/1 [==============================] - 0s 19ms/step\n",
      "1/1 [==============================] - 0s 19ms/step\n",
      "1/1 [==============================] - 0s 19ms/step\n",
      "1/1 [==============================] - 0s 20ms/step\n",
      "1/1 [==============================] - 0s 24ms/step\n",
      "1/1 [==============================] - 0s 20ms/step\n",
      "1/1 [==============================] - 0s 21ms/step\n",
      "1/1 [==============================] - 0s 20ms/step\n",
      "1/1 [==============================] - 0s 19ms/step\n",
      "1/1 [==============================] - 0s 20ms/step\n",
      "1/1 [==============================] - 0s 19ms/step\n",
      "1/1 [==============================] - 0s 19ms/step\n",
      "1/1 [==============================] - 0s 19ms/step\n",
      "1/1 [==============================] - 0s 18ms/step\n",
      "1/1 [==============================] - 0s 6ms/step\n",
      "1/1 [==============================] - 0s 19ms/step\n",
      "1/1 [==============================] - 0s 20ms/step\n",
      "1/1 [==============================] - 0s 21ms/step\n",
      "1/1 [==============================] - 0s 20ms/step\n",
      "1/1 [==============================] - 0s 22ms/step\n",
      "1/1 [==============================] - 0s 19ms/step\n",
      "1/1 [==============================] - 0s 19ms/step\n",
      "1/1 [==============================] - 0s 20ms/step\n",
      "1/1 [==============================] - 0s 19ms/step\n",
      "had one point in advance\n",
      " of the chore the professor angell bean so star with strange survivingly ritual which was willing ear\n",
      "had one point in advance of the chore the professor angell bean so star with strange survivingly ritual which was willing ear\n"
     ]
    }
   ],
   "source": [
    "example = \"had one point in advance\"\n",
    "gen = generate_text(example)\n",
    "print(example)\n",
    "print(gen)\n",
    "print(example + gen)"
   ],
   "metadata": {
    "collapsed": false
   }
  },
  {
   "cell_type": "markdown",
   "source": [
    "## Марковская цепь"
   ],
   "metadata": {
    "collapsed": false
   }
  },
  {
   "cell_type": "code",
   "execution_count": 93,
   "outputs": [],
   "source": [
    "markov_chain = create_markov_chain(data)"
   ],
   "metadata": {
    "collapsed": false
   }
  },
  {
   "cell_type": "code",
   "execution_count": 111,
   "outputs": [
    {
     "name": "stdout",
     "output_type": "stream",
     "text": [
      "{' ': 0.0, '.': 0.0, 'a': 0.0, 'b': 0.0, 'c': 0.0, 'd': 0.0, 'e': 0.0, 'f': 0.0, 'g': 0.0, 'h': 0.0, 'i': 0.0, 'j': 0.0, 'k': 0.0, 'l': 1.0, 'm': 0.0, 'n': 0.0, 'o': 0.0, 'p': 0.0, 'q': 0.0, 'r': 0.0, 's': 0.0, 't': 0.0, 'u': 0.0, 'v': 0.0, 'w': 0.0, 'x': 0.0, 'y': 0.0, 'z': 0.0}\n"
     ]
    }
   ],
   "source": [
    "keys = list(markov_chain.keys())\n",
    "print(markov_chain['he most mercifu'])"
   ],
   "metadata": {
    "collapsed": false
   }
  },
  {
   "cell_type": "code",
   "execution_count": 108,
   "outputs": [
    {
     "name": "stdout",
     "output_type": "stream",
     "text": [
      "part of the manuscript\n",
      " again and correlating the theosophical and anthropological notes with the cult\n",
      "part of the manuscript again and correlating the theosophical and anthropological notes with the cult\n"
     ]
    }
   ],
   "source": [
    "example = \"part of the manuscript\"\n",
    "gen = markov_generate_text(example)\n",
    "print(example)\n",
    "print(gen)\n",
    "print(example + gen)"
   ],
   "metadata": {
    "collapsed": false
   }
  },
  {
   "cell_type": "code",
   "execution_count": 109,
   "outputs": [
    {
     "name": "stdout",
     "output_type": "stream",
     "text": [
      "i looked carefully al\n",
      "skcswkfano cxp.\n",
      "i looked carefully alskcswkfano cxp.\n"
     ]
    }
   ],
   "source": [
    "example = \"i looked carefully al\"\n",
    "gen = markov_generate_text(example)\n",
    "print(example)\n",
    "print(gen)\n",
    "print(example + gen)"
   ],
   "metadata": {
    "collapsed": false
   }
  },
  {
   "cell_type": "code",
   "execution_count": 110,
   "outputs": [
    {
     "name": "stdout",
     "output_type": "stream",
     "text": [
      "had one point in advance\n",
      " of professor webb had been engaged forty eight years before in a tour of gre\n",
      "had one point in advance of professor webb had been engaged forty eight years before in a tour of gre\n"
     ]
    }
   ],
   "source": [
    "example = \"had one point in advance\"\n",
    "gen = markov_generate_text(example)\n",
    "print(example)\n",
    "print(gen)\n",
    "print(example + gen)"
   ],
   "metadata": {
    "collapsed": false
   }
  }
 ],
 "metadata": {
  "kernelspec": {
   "display_name": "Python 3",
   "language": "python",
   "name": "python3"
  },
  "language_info": {
   "codemirror_mode": {
    "name": "ipython",
    "version": 3
   },
   "file_extension": ".py",
   "mimetype": "text/x-python",
   "name": "python",
   "nbconvert_exporter": "python",
   "pygments_lexer": "ipython3",
   "version": "3.9.9"
  },
  "orig_nbformat": 4
 },
 "nbformat": 4,
 "nbformat_minor": 2
}
